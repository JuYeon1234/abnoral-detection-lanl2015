{
 "cells": [
  {
   "attachments": {},
   "cell_type": "markdown",
   "metadata": {},
   "source": [
    "# make train, test dataset"
   ]
  },
  {
   "cell_type": "code",
   "execution_count": 149,
   "metadata": {},
   "outputs": [],
   "source": [
    "# import library\n",
    "import pandas as pd\n",
    "import numpy as np\n",
    "\n",
    "auth_cols = [\"time\", \"suser_do\", \"duser_do\", \"scom\", \"dcom\", \"a_t\", \"logon_type\", \"a_ot\", \"s/f\"]\n",
    "\n",
    "\n",
    "df_auth_cols = [\"time\", \"s_user\", \"s_domain\",  \"d_user\",\"d_domain\", \"scom\", \"dcom\", \"a_t\", \"logon_type\", \"a_ot\", \"s/f\"]\n"
   ]
  },
  {
   "cell_type": "code",
   "execution_count": 150,
   "metadata": {},
   "outputs": [],
   "source": [
    "# load data\n",
    "\n",
    "df = pd.read_csv(\"/home/shkim/testfolder/abnoral-detection-lanl2015/abnoral-detection-lanl2015/df_auth.csv\")\n",
    "df_attack = pd.read_csv(\"/home/shkim/testfolder/abnoral-detection-lanl2015/abnoral-detection-lanl2015/attack1.csv\")\n",
    "\n"
   ]
  },
  {
   "cell_type": "code",
   "execution_count": 153,
   "metadata": {},
   "outputs": [],
   "source": [
    "df.drop(\"Unnamed: 0\", axis = 1, inplace = True)"
   ]
  },
  {
   "cell_type": "code",
   "execution_count": 151,
   "metadata": {},
   "outputs": [
    {
     "data": {
      "text/html": [
       "<div>\n",
       "<style scoped>\n",
       "    .dataframe tbody tr th:only-of-type {\n",
       "        vertical-align: middle;\n",
       "    }\n",
       "\n",
       "    .dataframe tbody tr th {\n",
       "        vertical-align: top;\n",
       "    }\n",
       "\n",
       "    .dataframe thead th {\n",
       "        text-align: right;\n",
       "    }\n",
       "</style>\n",
       "<table border=\"1\" class=\"dataframe\">\n",
       "  <thead>\n",
       "    <tr style=\"text-align: right;\">\n",
       "      <th></th>\n",
       "      <th>Unnamed: 0</th>\n",
       "      <th>time</th>\n",
       "      <th>s_user</th>\n",
       "      <th>s_domain</th>\n",
       "      <th>d_user</th>\n",
       "      <th>d_domain</th>\n",
       "      <th>scom</th>\n",
       "      <th>dcom</th>\n",
       "      <th>a_t</th>\n",
       "      <th>logon_type</th>\n",
       "      <th>a_ot</th>\n",
       "      <th>s/f</th>\n",
       "    </tr>\n",
       "  </thead>\n",
       "  <tbody>\n",
       "    <tr>\n",
       "      <th>0</th>\n",
       "      <td>0</td>\n",
       "      <td>150885</td>\n",
       "      <td>U620</td>\n",
       "      <td>DOM1</td>\n",
       "      <td>U620</td>\n",
       "      <td>DOM1</td>\n",
       "      <td>C17693</td>\n",
       "      <td>C1003</td>\n",
       "      <td>NTLM</td>\n",
       "      <td>Network</td>\n",
       "      <td>LogOn</td>\n",
       "      <td>Success</td>\n",
       "    </tr>\n",
       "    <tr>\n",
       "      <th>1</th>\n",
       "      <td>1</td>\n",
       "      <td>151036</td>\n",
       "      <td>U748</td>\n",
       "      <td>DOM1</td>\n",
       "      <td>U748</td>\n",
       "      <td>DOM1</td>\n",
       "      <td>C17693</td>\n",
       "      <td>C305</td>\n",
       "      <td>NTLM</td>\n",
       "      <td>Network</td>\n",
       "      <td>LogOn</td>\n",
       "      <td>Success</td>\n",
       "    </tr>\n",
       "    <tr>\n",
       "      <th>2</th>\n",
       "      <td>2</td>\n",
       "      <td>151648</td>\n",
       "      <td>U748</td>\n",
       "      <td>DOM1</td>\n",
       "      <td>U748</td>\n",
       "      <td>DOM1</td>\n",
       "      <td>C17693</td>\n",
       "      <td>C728</td>\n",
       "      <td>NTLM</td>\n",
       "      <td>Network</td>\n",
       "      <td>LogOn</td>\n",
       "      <td>Success</td>\n",
       "    </tr>\n",
       "    <tr>\n",
       "      <th>3</th>\n",
       "      <td>3</td>\n",
       "      <td>151993</td>\n",
       "      <td>U6115</td>\n",
       "      <td>DOM1</td>\n",
       "      <td>U6115</td>\n",
       "      <td>DOM1</td>\n",
       "      <td>C17693</td>\n",
       "      <td>C1173</td>\n",
       "      <td>NTLM</td>\n",
       "      <td>Network</td>\n",
       "      <td>LogOn</td>\n",
       "      <td>Success</td>\n",
       "    </tr>\n",
       "    <tr>\n",
       "      <th>4</th>\n",
       "      <td>4</td>\n",
       "      <td>153792</td>\n",
       "      <td>U636</td>\n",
       "      <td>DOM1</td>\n",
       "      <td>U636</td>\n",
       "      <td>DOM1</td>\n",
       "      <td>C17693</td>\n",
       "      <td>C294</td>\n",
       "      <td>NTLM</td>\n",
       "      <td>Network</td>\n",
       "      <td>LogOn</td>\n",
       "      <td>Success</td>\n",
       "    </tr>\n",
       "    <tr>\n",
       "      <th>...</th>\n",
       "      <td>...</td>\n",
       "      <td>...</td>\n",
       "      <td>...</td>\n",
       "      <td>...</td>\n",
       "      <td>...</td>\n",
       "      <td>...</td>\n",
       "      <td>...</td>\n",
       "      <td>...</td>\n",
       "      <td>...</td>\n",
       "      <td>...</td>\n",
       "      <td>...</td>\n",
       "      <td>...</td>\n",
       "    </tr>\n",
       "    <tr>\n",
       "      <th>711</th>\n",
       "      <td>738</td>\n",
       "      <td>2551583</td>\n",
       "      <td>U737</td>\n",
       "      <td>DOM1</td>\n",
       "      <td>U737</td>\n",
       "      <td>DOM1</td>\n",
       "      <td>C19932</td>\n",
       "      <td>C108</td>\n",
       "      <td>NTLM</td>\n",
       "      <td>Network</td>\n",
       "      <td>LogOn</td>\n",
       "      <td>Success</td>\n",
       "    </tr>\n",
       "    <tr>\n",
       "      <th>712</th>\n",
       "      <td>739</td>\n",
       "      <td>2552687</td>\n",
       "      <td>U9263</td>\n",
       "      <td>DOM1</td>\n",
       "      <td>U9263</td>\n",
       "      <td>DOM1</td>\n",
       "      <td>C17693</td>\n",
       "      <td>C828</td>\n",
       "      <td>NTLM</td>\n",
       "      <td>Network</td>\n",
       "      <td>LogOn</td>\n",
       "      <td>Fail</td>\n",
       "    </tr>\n",
       "    <tr>\n",
       "      <th>713</th>\n",
       "      <td>740</td>\n",
       "      <td>2552687</td>\n",
       "      <td>U9263</td>\n",
       "      <td>DOM1</td>\n",
       "      <td>U9263</td>\n",
       "      <td>DOM1</td>\n",
       "      <td>C17693</td>\n",
       "      <td>C828</td>\n",
       "      <td>NTLM</td>\n",
       "      <td>Network</td>\n",
       "      <td>LogOn</td>\n",
       "      <td>Success</td>\n",
       "    </tr>\n",
       "    <tr>\n",
       "      <th>714</th>\n",
       "      <td>747</td>\n",
       "      <td>2552687</td>\n",
       "      <td>U655</td>\n",
       "      <td>DOM1</td>\n",
       "      <td>U655</td>\n",
       "      <td>DOM1</td>\n",
       "      <td>C17693</td>\n",
       "      <td>C828</td>\n",
       "      <td>NTLM</td>\n",
       "      <td>Network</td>\n",
       "      <td>LogOn</td>\n",
       "      <td>Success</td>\n",
       "    </tr>\n",
       "    <tr>\n",
       "      <th>715</th>\n",
       "      <td>752</td>\n",
       "      <td>2557047</td>\n",
       "      <td>U737</td>\n",
       "      <td>DOM1</td>\n",
       "      <td>U737</td>\n",
       "      <td>DOM1</td>\n",
       "      <td>C19932</td>\n",
       "      <td>C108</td>\n",
       "      <td>NTLM</td>\n",
       "      <td>Network</td>\n",
       "      <td>LogOn</td>\n",
       "      <td>Success</td>\n",
       "    </tr>\n",
       "  </tbody>\n",
       "</table>\n",
       "<p>716 rows × 12 columns</p>\n",
       "</div>"
      ],
      "text/plain": [
       "     Unnamed: 0     time s_user s_domain d_user d_domain    scom   dcom   a_t  \\\n",
       "0             0   150885   U620     DOM1   U620     DOM1  C17693  C1003  NTLM   \n",
       "1             1   151036   U748     DOM1   U748     DOM1  C17693   C305  NTLM   \n",
       "2             2   151648   U748     DOM1   U748     DOM1  C17693   C728  NTLM   \n",
       "3             3   151993  U6115     DOM1  U6115     DOM1  C17693  C1173  NTLM   \n",
       "4             4   153792   U636     DOM1   U636     DOM1  C17693   C294  NTLM   \n",
       "..          ...      ...    ...      ...    ...      ...     ...    ...   ...   \n",
       "711         738  2551583   U737     DOM1   U737     DOM1  C19932   C108  NTLM   \n",
       "712         739  2552687  U9263     DOM1  U9263     DOM1  C17693   C828  NTLM   \n",
       "713         740  2552687  U9263     DOM1  U9263     DOM1  C17693   C828  NTLM   \n",
       "714         747  2552687   U655     DOM1   U655     DOM1  C17693   C828  NTLM   \n",
       "715         752  2557047   U737     DOM1   U737     DOM1  C19932   C108  NTLM   \n",
       "\n",
       "    logon_type   a_ot      s/f  \n",
       "0      Network  LogOn  Success  \n",
       "1      Network  LogOn  Success  \n",
       "2      Network  LogOn  Success  \n",
       "3      Network  LogOn  Success  \n",
       "4      Network  LogOn  Success  \n",
       "..         ...    ...      ...  \n",
       "711    Network  LogOn  Success  \n",
       "712    Network  LogOn     Fail  \n",
       "713    Network  LogOn  Success  \n",
       "714    Network  LogOn  Success  \n",
       "715    Network  LogOn  Success  \n",
       "\n",
       "[716 rows x 12 columns]"
      ]
     },
     "execution_count": 151,
     "metadata": {},
     "output_type": "execute_result"
    }
   ],
   "source": [
    "df_attack"
   ]
  },
  {
   "cell_type": "code",
   "execution_count": 154,
   "metadata": {},
   "outputs": [],
   "source": [
    "df = df.iloc[:4284]"
   ]
  },
  {
   "cell_type": "code",
   "execution_count": 155,
   "metadata": {},
   "outputs": [],
   "source": [
    "df[\"positive\"] = 0\n",
    "df_attack[\"positive\"] = 1"
   ]
  },
  {
   "cell_type": "code",
   "execution_count": 159,
   "metadata": {},
   "outputs": [],
   "source": [
    "# \"\\n\" 제거\n",
    "df[\"s/f\"] = df[\"s/f\"].str[:-1]\n"
   ]
  },
  {
   "cell_type": "code",
   "execution_count": 160,
   "metadata": {},
   "outputs": [],
   "source": [
    "df = pd.concat([df, df_attack])"
   ]
  },
  {
   "cell_type": "code",
   "execution_count": 161,
   "metadata": {},
   "outputs": [
    {
     "data": {
      "text/html": [
       "<div>\n",
       "<style scoped>\n",
       "    .dataframe tbody tr th:only-of-type {\n",
       "        vertical-align: middle;\n",
       "    }\n",
       "\n",
       "    .dataframe tbody tr th {\n",
       "        vertical-align: top;\n",
       "    }\n",
       "\n",
       "    .dataframe thead th {\n",
       "        text-align: right;\n",
       "    }\n",
       "</style>\n",
       "<table border=\"1\" class=\"dataframe\">\n",
       "  <thead>\n",
       "    <tr style=\"text-align: right;\">\n",
       "      <th></th>\n",
       "      <th>time</th>\n",
       "      <th>s_user</th>\n",
       "      <th>s_domain</th>\n",
       "      <th>d_user</th>\n",
       "      <th>d_domain</th>\n",
       "      <th>scom</th>\n",
       "      <th>dcom</th>\n",
       "      <th>a_t</th>\n",
       "      <th>logon_type</th>\n",
       "      <th>a_ot</th>\n",
       "      <th>s/f</th>\n",
       "      <th>positive</th>\n",
       "    </tr>\n",
       "  </thead>\n",
       "  <tbody>\n",
       "    <tr>\n",
       "      <th>0</th>\n",
       "      <td>3631772</td>\n",
       "      <td>U13</td>\n",
       "      <td>DOM1</td>\n",
       "      <td>U13</td>\n",
       "      <td>DOM1</td>\n",
       "      <td>C368</td>\n",
       "      <td>C1065</td>\n",
       "      <td>Kerberos</td>\n",
       "      <td>Network</td>\n",
       "      <td>LogOn</td>\n",
       "      <td>Success</td>\n",
       "      <td>0</td>\n",
       "    </tr>\n",
       "    <tr>\n",
       "      <th>1</th>\n",
       "      <td>3901683</td>\n",
       "      <td>U7971</td>\n",
       "      <td>C25126</td>\n",
       "      <td>U7971</td>\n",
       "      <td>C25126</td>\n",
       "      <td>C25126</td>\n",
       "      <td>C2951</td>\n",
       "      <td>NTLM</td>\n",
       "      <td>Network</td>\n",
       "      <td>LogOn</td>\n",
       "      <td>Fail</td>\n",
       "      <td>0</td>\n",
       "    </tr>\n",
       "    <tr>\n",
       "      <th>2</th>\n",
       "      <td>512998</td>\n",
       "      <td>C6522</td>\n",
       "      <td>DOM1</td>\n",
       "      <td>C6522</td>\n",
       "      <td>DOM1</td>\n",
       "      <td>C6522</td>\n",
       "      <td>C586</td>\n",
       "      <td>Kerberos</td>\n",
       "      <td>Network</td>\n",
       "      <td>LogOn</td>\n",
       "      <td>Success</td>\n",
       "      <td>0</td>\n",
       "    </tr>\n",
       "    <tr>\n",
       "      <th>3</th>\n",
       "      <td>177835</td>\n",
       "      <td>U66</td>\n",
       "      <td>DOM1</td>\n",
       "      <td>U66</td>\n",
       "      <td>DOM1</td>\n",
       "      <td>C1673</td>\n",
       "      <td>C1673</td>\n",
       "      <td>Kerberos</td>\n",
       "      <td>Network</td>\n",
       "      <td>LogOn</td>\n",
       "      <td>Success</td>\n",
       "      <td>0</td>\n",
       "    </tr>\n",
       "    <tr>\n",
       "      <th>4</th>\n",
       "      <td>164787</td>\n",
       "      <td>NETWORK SERVICE</td>\n",
       "      <td>C4541</td>\n",
       "      <td>NETWORK SERVICE</td>\n",
       "      <td>C4541</td>\n",
       "      <td>C4541</td>\n",
       "      <td>C4541</td>\n",
       "      <td>Negotiate</td>\n",
       "      <td>Service</td>\n",
       "      <td>LogOn</td>\n",
       "      <td>Success</td>\n",
       "      <td>0</td>\n",
       "    </tr>\n",
       "    <tr>\n",
       "      <th>...</th>\n",
       "      <td>...</td>\n",
       "      <td>...</td>\n",
       "      <td>...</td>\n",
       "      <td>...</td>\n",
       "      <td>...</td>\n",
       "      <td>...</td>\n",
       "      <td>...</td>\n",
       "      <td>...</td>\n",
       "      <td>...</td>\n",
       "      <td>...</td>\n",
       "      <td>...</td>\n",
       "      <td>...</td>\n",
       "    </tr>\n",
       "    <tr>\n",
       "      <th>711</th>\n",
       "      <td>2551583</td>\n",
       "      <td>U737</td>\n",
       "      <td>DOM1</td>\n",
       "      <td>U737</td>\n",
       "      <td>DOM1</td>\n",
       "      <td>C19932</td>\n",
       "      <td>C108</td>\n",
       "      <td>NTLM</td>\n",
       "      <td>Network</td>\n",
       "      <td>LogOn</td>\n",
       "      <td>Success</td>\n",
       "      <td>1</td>\n",
       "    </tr>\n",
       "    <tr>\n",
       "      <th>712</th>\n",
       "      <td>2552687</td>\n",
       "      <td>U9263</td>\n",
       "      <td>DOM1</td>\n",
       "      <td>U9263</td>\n",
       "      <td>DOM1</td>\n",
       "      <td>C17693</td>\n",
       "      <td>C828</td>\n",
       "      <td>NTLM</td>\n",
       "      <td>Network</td>\n",
       "      <td>LogOn</td>\n",
       "      <td>Fail</td>\n",
       "      <td>1</td>\n",
       "    </tr>\n",
       "    <tr>\n",
       "      <th>713</th>\n",
       "      <td>2552687</td>\n",
       "      <td>U9263</td>\n",
       "      <td>DOM1</td>\n",
       "      <td>U9263</td>\n",
       "      <td>DOM1</td>\n",
       "      <td>C17693</td>\n",
       "      <td>C828</td>\n",
       "      <td>NTLM</td>\n",
       "      <td>Network</td>\n",
       "      <td>LogOn</td>\n",
       "      <td>Success</td>\n",
       "      <td>1</td>\n",
       "    </tr>\n",
       "    <tr>\n",
       "      <th>714</th>\n",
       "      <td>2552687</td>\n",
       "      <td>U655</td>\n",
       "      <td>DOM1</td>\n",
       "      <td>U655</td>\n",
       "      <td>DOM1</td>\n",
       "      <td>C17693</td>\n",
       "      <td>C828</td>\n",
       "      <td>NTLM</td>\n",
       "      <td>Network</td>\n",
       "      <td>LogOn</td>\n",
       "      <td>Success</td>\n",
       "      <td>1</td>\n",
       "    </tr>\n",
       "    <tr>\n",
       "      <th>715</th>\n",
       "      <td>2557047</td>\n",
       "      <td>U737</td>\n",
       "      <td>DOM1</td>\n",
       "      <td>U737</td>\n",
       "      <td>DOM1</td>\n",
       "      <td>C19932</td>\n",
       "      <td>C108</td>\n",
       "      <td>NTLM</td>\n",
       "      <td>Network</td>\n",
       "      <td>LogOn</td>\n",
       "      <td>Success</td>\n",
       "      <td>1</td>\n",
       "    </tr>\n",
       "  </tbody>\n",
       "</table>\n",
       "<p>5000 rows × 12 columns</p>\n",
       "</div>"
      ],
      "text/plain": [
       "        time           s_user s_domain           d_user d_domain    scom  \\\n",
       "0    3631772              U13     DOM1              U13     DOM1    C368   \n",
       "1    3901683            U7971   C25126            U7971   C25126  C25126   \n",
       "2     512998            C6522     DOM1            C6522     DOM1   C6522   \n",
       "3     177835              U66     DOM1              U66     DOM1   C1673   \n",
       "4     164787  NETWORK SERVICE    C4541  NETWORK SERVICE    C4541   C4541   \n",
       "..       ...              ...      ...              ...      ...     ...   \n",
       "711  2551583             U737     DOM1             U737     DOM1  C19932   \n",
       "712  2552687            U9263     DOM1            U9263     DOM1  C17693   \n",
       "713  2552687            U9263     DOM1            U9263     DOM1  C17693   \n",
       "714  2552687             U655     DOM1             U655     DOM1  C17693   \n",
       "715  2557047             U737     DOM1             U737     DOM1  C19932   \n",
       "\n",
       "      dcom        a_t logon_type   a_ot      s/f  positive  \n",
       "0    C1065   Kerberos    Network  LogOn  Success         0  \n",
       "1    C2951       NTLM    Network  LogOn     Fail         0  \n",
       "2     C586   Kerberos    Network  LogOn  Success         0  \n",
       "3    C1673   Kerberos    Network  LogOn  Success         0  \n",
       "4    C4541  Negotiate    Service  LogOn  Success         0  \n",
       "..     ...        ...        ...    ...      ...       ...  \n",
       "711   C108       NTLM    Network  LogOn  Success         1  \n",
       "712   C828       NTLM    Network  LogOn     Fail         1  \n",
       "713   C828       NTLM    Network  LogOn  Success         1  \n",
       "714   C828       NTLM    Network  LogOn  Success         1  \n",
       "715   C108       NTLM    Network  LogOn  Success         1  \n",
       "\n",
       "[5000 rows x 12 columns]"
      ]
     },
     "execution_count": 161,
     "metadata": {},
     "output_type": "execute_result"
    }
   ],
   "source": [
    "df"
   ]
  },
  {
   "cell_type": "code",
   "execution_count": 162,
   "metadata": {},
   "outputs": [],
   "source": [
    "df = df.drop_duplicates(df_auth_cols, keep = 'last')"
   ]
  },
  {
   "cell_type": "code",
   "execution_count": 191,
   "metadata": {},
   "outputs": [
    {
     "data": {
      "text/html": [
       "<div>\n",
       "<style scoped>\n",
       "    .dataframe tbody tr th:only-of-type {\n",
       "        vertical-align: middle;\n",
       "    }\n",
       "\n",
       "    .dataframe tbody tr th {\n",
       "        vertical-align: top;\n",
       "    }\n",
       "\n",
       "    .dataframe thead th {\n",
       "        text-align: right;\n",
       "    }\n",
       "</style>\n",
       "<table border=\"1\" class=\"dataframe\">\n",
       "  <thead>\n",
       "    <tr style=\"text-align: right;\">\n",
       "      <th></th>\n",
       "      <th>time</th>\n",
       "      <th>s_user</th>\n",
       "      <th>s_domain</th>\n",
       "      <th>d_user</th>\n",
       "      <th>d_domain</th>\n",
       "      <th>scom</th>\n",
       "      <th>dcom</th>\n",
       "      <th>a_t</th>\n",
       "      <th>logon_type</th>\n",
       "      <th>a_ot</th>\n",
       "      <th>s/f</th>\n",
       "      <th>positive</th>\n",
       "      <th>frequency</th>\n",
       "    </tr>\n",
       "  </thead>\n",
       "  <tbody>\n",
       "    <tr>\n",
       "      <th>0</th>\n",
       "      <td>3631772</td>\n",
       "      <td>U13</td>\n",
       "      <td>DOM1</td>\n",
       "      <td>U13</td>\n",
       "      <td>DOM1</td>\n",
       "      <td>C368</td>\n",
       "      <td>C1065</td>\n",
       "      <td>Kerberos</td>\n",
       "      <td>Network</td>\n",
       "      <td>LogOn</td>\n",
       "      <td>Success</td>\n",
       "      <td>0</td>\n",
       "      <td>1</td>\n",
       "    </tr>\n",
       "    <tr>\n",
       "      <th>1</th>\n",
       "      <td>3901683</td>\n",
       "      <td>U7971</td>\n",
       "      <td>C25126</td>\n",
       "      <td>U7971</td>\n",
       "      <td>C25126</td>\n",
       "      <td>C25126</td>\n",
       "      <td>C2951</td>\n",
       "      <td>NTLM</td>\n",
       "      <td>Network</td>\n",
       "      <td>LogOn</td>\n",
       "      <td>Fail</td>\n",
       "      <td>0</td>\n",
       "      <td>1</td>\n",
       "    </tr>\n",
       "    <tr>\n",
       "      <th>2</th>\n",
       "      <td>512998</td>\n",
       "      <td>C6522</td>\n",
       "      <td>DOM1</td>\n",
       "      <td>C6522</td>\n",
       "      <td>DOM1</td>\n",
       "      <td>C6522</td>\n",
       "      <td>C586</td>\n",
       "      <td>Kerberos</td>\n",
       "      <td>Network</td>\n",
       "      <td>LogOn</td>\n",
       "      <td>Success</td>\n",
       "      <td>0</td>\n",
       "      <td>1</td>\n",
       "    </tr>\n",
       "    <tr>\n",
       "      <th>3</th>\n",
       "      <td>177835</td>\n",
       "      <td>U66</td>\n",
       "      <td>DOM1</td>\n",
       "      <td>U66</td>\n",
       "      <td>DOM1</td>\n",
       "      <td>C1673</td>\n",
       "      <td>C1673</td>\n",
       "      <td>Kerberos</td>\n",
       "      <td>Network</td>\n",
       "      <td>LogOn</td>\n",
       "      <td>Success</td>\n",
       "      <td>0</td>\n",
       "      <td>1</td>\n",
       "    </tr>\n",
       "    <tr>\n",
       "      <th>4</th>\n",
       "      <td>164787</td>\n",
       "      <td>NETWORK SERVICE</td>\n",
       "      <td>C4541</td>\n",
       "      <td>NETWORK SERVICE</td>\n",
       "      <td>C4541</td>\n",
       "      <td>C4541</td>\n",
       "      <td>C4541</td>\n",
       "      <td>Negotiate</td>\n",
       "      <td>Service</td>\n",
       "      <td>LogOn</td>\n",
       "      <td>Success</td>\n",
       "      <td>0</td>\n",
       "      <td>1</td>\n",
       "    </tr>\n",
       "    <tr>\n",
       "      <th>...</th>\n",
       "      <td>...</td>\n",
       "      <td>...</td>\n",
       "      <td>...</td>\n",
       "      <td>...</td>\n",
       "      <td>...</td>\n",
       "      <td>...</td>\n",
       "      <td>...</td>\n",
       "      <td>...</td>\n",
       "      <td>...</td>\n",
       "      <td>...</td>\n",
       "      <td>...</td>\n",
       "      <td>...</td>\n",
       "      <td>...</td>\n",
       "    </tr>\n",
       "    <tr>\n",
       "      <th>711</th>\n",
       "      <td>2551583</td>\n",
       "      <td>U737</td>\n",
       "      <td>DOM1</td>\n",
       "      <td>U737</td>\n",
       "      <td>DOM1</td>\n",
       "      <td>C19932</td>\n",
       "      <td>C108</td>\n",
       "      <td>NTLM</td>\n",
       "      <td>Network</td>\n",
       "      <td>LogOn</td>\n",
       "      <td>Success</td>\n",
       "      <td>1</td>\n",
       "      <td>1</td>\n",
       "    </tr>\n",
       "    <tr>\n",
       "      <th>712</th>\n",
       "      <td>2552687</td>\n",
       "      <td>U9263</td>\n",
       "      <td>DOM1</td>\n",
       "      <td>U9263</td>\n",
       "      <td>DOM1</td>\n",
       "      <td>C17693</td>\n",
       "      <td>C828</td>\n",
       "      <td>NTLM</td>\n",
       "      <td>Network</td>\n",
       "      <td>LogOn</td>\n",
       "      <td>Fail</td>\n",
       "      <td>1</td>\n",
       "      <td>1</td>\n",
       "    </tr>\n",
       "    <tr>\n",
       "      <th>713</th>\n",
       "      <td>2552687</td>\n",
       "      <td>U9263</td>\n",
       "      <td>DOM1</td>\n",
       "      <td>U9263</td>\n",
       "      <td>DOM1</td>\n",
       "      <td>C17693</td>\n",
       "      <td>C828</td>\n",
       "      <td>NTLM</td>\n",
       "      <td>Network</td>\n",
       "      <td>LogOn</td>\n",
       "      <td>Success</td>\n",
       "      <td>1</td>\n",
       "      <td>1</td>\n",
       "    </tr>\n",
       "    <tr>\n",
       "      <th>714</th>\n",
       "      <td>2552687</td>\n",
       "      <td>U655</td>\n",
       "      <td>DOM1</td>\n",
       "      <td>U655</td>\n",
       "      <td>DOM1</td>\n",
       "      <td>C17693</td>\n",
       "      <td>C828</td>\n",
       "      <td>NTLM</td>\n",
       "      <td>Network</td>\n",
       "      <td>LogOn</td>\n",
       "      <td>Success</td>\n",
       "      <td>1</td>\n",
       "      <td>1</td>\n",
       "    </tr>\n",
       "    <tr>\n",
       "      <th>715</th>\n",
       "      <td>2557047</td>\n",
       "      <td>U737</td>\n",
       "      <td>DOM1</td>\n",
       "      <td>U737</td>\n",
       "      <td>DOM1</td>\n",
       "      <td>C19932</td>\n",
       "      <td>C108</td>\n",
       "      <td>NTLM</td>\n",
       "      <td>Network</td>\n",
       "      <td>LogOn</td>\n",
       "      <td>Success</td>\n",
       "      <td>1</td>\n",
       "      <td>1</td>\n",
       "    </tr>\n",
       "  </tbody>\n",
       "</table>\n",
       "<p>5000 rows × 13 columns</p>\n",
       "</div>"
      ],
      "text/plain": [
       "        time           s_user s_domain           d_user d_domain    scom  \\\n",
       "0    3631772              U13     DOM1              U13     DOM1    C368   \n",
       "1    3901683            U7971   C25126            U7971   C25126  C25126   \n",
       "2     512998            C6522     DOM1            C6522     DOM1   C6522   \n",
       "3     177835              U66     DOM1              U66     DOM1   C1673   \n",
       "4     164787  NETWORK SERVICE    C4541  NETWORK SERVICE    C4541   C4541   \n",
       "..       ...              ...      ...              ...      ...     ...   \n",
       "711  2551583             U737     DOM1             U737     DOM1  C19932   \n",
       "712  2552687            U9263     DOM1            U9263     DOM1  C17693   \n",
       "713  2552687            U9263     DOM1            U9263     DOM1  C17693   \n",
       "714  2552687             U655     DOM1             U655     DOM1  C17693   \n",
       "715  2557047             U737     DOM1             U737     DOM1  C19932   \n",
       "\n",
       "      dcom        a_t logon_type   a_ot      s/f  positive  frequency  \n",
       "0    C1065   Kerberos    Network  LogOn  Success         0          1  \n",
       "1    C2951       NTLM    Network  LogOn     Fail         0          1  \n",
       "2     C586   Kerberos    Network  LogOn  Success         0          1  \n",
       "3    C1673   Kerberos    Network  LogOn  Success         0          1  \n",
       "4    C4541  Negotiate    Service  LogOn  Success         0          1  \n",
       "..     ...        ...        ...    ...      ...       ...        ...  \n",
       "711   C108       NTLM    Network  LogOn  Success         1          1  \n",
       "712   C828       NTLM    Network  LogOn     Fail         1          1  \n",
       "713   C828       NTLM    Network  LogOn  Success         1          1  \n",
       "714   C828       NTLM    Network  LogOn  Success         1          1  \n",
       "715   C108       NTLM    Network  LogOn  Success         1          1  \n",
       "\n",
       "[5000 rows x 13 columns]"
      ]
     },
     "execution_count": 191,
     "metadata": {},
     "output_type": "execute_result"
    }
   ],
   "source": [
    "df"
   ]
  },
  {
   "cell_type": "code",
   "execution_count": 164,
   "metadata": {},
   "outputs": [],
   "source": [
    "g_header =  [ \"s_user\", \"s_domain\",  \"d_user\",\"d_domain\", \"scom\", \"dcom\", \"a_t\", \"logon_type\", \"a_ot\", \"s/f\"]\n",
    "df[\"frequency\"] = 1"
   ]
  },
  {
   "cell_type": "code",
   "execution_count": null,
   "metadata": {},
   "outputs": [],
   "source": []
  },
  {
   "cell_type": "code",
   "execution_count": 256,
   "metadata": {},
   "outputs": [],
   "source": [
    "from sklearn.model_selection import train_test_split\n",
    "\n",
    "X=df.drop(\"positive\", axis=1)\n",
    "Y=df['positive']"
   ]
  },
  {
   "cell_type": "code",
   "execution_count": 257,
   "metadata": {},
   "outputs": [],
   "source": [
    "x_train, x_test, y_train, y_test  = train_test_split(X, Y,test_size=0.3, stratify=Y, random_state=123)\n"
   ]
  },
  {
   "cell_type": "code",
   "execution_count": 258,
   "metadata": {},
   "outputs": [],
   "source": [
    "x_train = x_train.reset_index()\n",
    "x_test = x_test.reset_index()"
   ]
  },
  {
   "cell_type": "code",
   "execution_count": 259,
   "metadata": {},
   "outputs": [],
   "source": [
    "x_train.drop(\"index\", axis = 1,inplace=True)\n",
    "x_test.drop(\"index\", axis = 1, inplace=True)"
   ]
  },
  {
   "cell_type": "code",
   "execution_count": 260,
   "metadata": {},
   "outputs": [],
   "source": [
    "y_train = y_train.reset_index()\n",
    "y_test = y_test.reset_index()"
   ]
  },
  {
   "cell_type": "code",
   "execution_count": 261,
   "metadata": {},
   "outputs": [],
   "source": [
    "y_train.drop(\"index\", axis = 1,inplace=True)\n",
    "y_test.drop(\"index\", axis = 1, inplace=True)"
   ]
  },
  {
   "cell_type": "code",
   "execution_count": 262,
   "metadata": {},
   "outputs": [
    {
     "data": {
      "text/html": [
       "<div>\n",
       "<style scoped>\n",
       "    .dataframe tbody tr th:only-of-type {\n",
       "        vertical-align: middle;\n",
       "    }\n",
       "\n",
       "    .dataframe tbody tr th {\n",
       "        vertical-align: top;\n",
       "    }\n",
       "\n",
       "    .dataframe thead th {\n",
       "        text-align: right;\n",
       "    }\n",
       "</style>\n",
       "<table border=\"1\" class=\"dataframe\">\n",
       "  <thead>\n",
       "    <tr style=\"text-align: right;\">\n",
       "      <th></th>\n",
       "      <th>positive</th>\n",
       "    </tr>\n",
       "  </thead>\n",
       "  <tbody>\n",
       "    <tr>\n",
       "      <th>4</th>\n",
       "      <td>1</td>\n",
       "    </tr>\n",
       "    <tr>\n",
       "      <th>5</th>\n",
       "      <td>1</td>\n",
       "    </tr>\n",
       "    <tr>\n",
       "      <th>9</th>\n",
       "      <td>1</td>\n",
       "    </tr>\n",
       "    <tr>\n",
       "      <th>25</th>\n",
       "      <td>1</td>\n",
       "    </tr>\n",
       "    <tr>\n",
       "      <th>30</th>\n",
       "      <td>1</td>\n",
       "    </tr>\n",
       "    <tr>\n",
       "      <th>...</th>\n",
       "      <td>...</td>\n",
       "    </tr>\n",
       "    <tr>\n",
       "      <th>1465</th>\n",
       "      <td>1</td>\n",
       "    </tr>\n",
       "    <tr>\n",
       "      <th>1466</th>\n",
       "      <td>1</td>\n",
       "    </tr>\n",
       "    <tr>\n",
       "      <th>1469</th>\n",
       "      <td>1</td>\n",
       "    </tr>\n",
       "    <tr>\n",
       "      <th>1486</th>\n",
       "      <td>1</td>\n",
       "    </tr>\n",
       "    <tr>\n",
       "      <th>1495</th>\n",
       "      <td>1</td>\n",
       "    </tr>\n",
       "  </tbody>\n",
       "</table>\n",
       "<p>215 rows × 1 columns</p>\n",
       "</div>"
      ],
      "text/plain": [
       "      positive\n",
       "4            1\n",
       "5            1\n",
       "9            1\n",
       "25           1\n",
       "30           1\n",
       "...        ...\n",
       "1465         1\n",
       "1466         1\n",
       "1469         1\n",
       "1486         1\n",
       "1495         1\n",
       "\n",
       "[215 rows x 1 columns]"
      ]
     },
     "execution_count": 262,
     "metadata": {},
     "output_type": "execute_result"
    }
   ],
   "source": [
    "y_test[y_test[\"positive\"] == 1]\n",
    "\n",
    "#비정상행위 215개"
   ]
  },
  {
   "cell_type": "code",
   "execution_count": 263,
   "metadata": {},
   "outputs": [],
   "source": [
    "x_train_group = x_train.groupby(g_header).transform('count')\n",
    "x_test_group = x_test.groupby(g_header).transform('count')"
   ]
  },
  {
   "cell_type": "code",
   "execution_count": 264,
   "metadata": {},
   "outputs": [],
   "source": [
    "x_train[\"frequency\"] = x_train_group[\"frequency\"]\n",
    "x_test[\"frequency\"] = x_test_group[\"frequency\"]\n"
   ]
  },
  {
   "attachments": {},
   "cell_type": "markdown",
   "metadata": {},
   "source": [
    "# one-hot-vector"
   ]
  },
  {
   "cell_type": "code",
   "execution_count": 265,
   "metadata": {},
   "outputs": [],
   "source": [
    "encoding_h = [\"s_user\", \"d_user\", \"a_t\", \"logon_type\", \"frequency\"]"
   ]
  },
  {
   "cell_type": "code",
   "execution_count": 247,
   "metadata": {},
   "outputs": [
    {
     "name": "stderr",
     "output_type": "stream",
     "text": [
      "/home/shkim/.local/lib/python3.8/site-packages/sklearn/preprocessing/_encoders.py:828: FutureWarning: `sparse` was renamed to `sparse_output` in version 1.2 and will be removed in 1.4. `sparse_output` is ignored unless you leave `sparse` to its default value.\n",
      "  warnings.warn(\n"
     ]
    },
    {
     "data": {
      "text/html": [
       "<style>#sk-container-id-4 {color: black;background-color: white;}#sk-container-id-4 pre{padding: 0;}#sk-container-id-4 div.sk-toggleable {background-color: white;}#sk-container-id-4 label.sk-toggleable__label {cursor: pointer;display: block;width: 100%;margin-bottom: 0;padding: 0.3em;box-sizing: border-box;text-align: center;}#sk-container-id-4 label.sk-toggleable__label-arrow:before {content: \"▸\";float: left;margin-right: 0.25em;color: #696969;}#sk-container-id-4 label.sk-toggleable__label-arrow:hover:before {color: black;}#sk-container-id-4 div.sk-estimator:hover label.sk-toggleable__label-arrow:before {color: black;}#sk-container-id-4 div.sk-toggleable__content {max-height: 0;max-width: 0;overflow: hidden;text-align: left;background-color: #f0f8ff;}#sk-container-id-4 div.sk-toggleable__content pre {margin: 0.2em;color: black;border-radius: 0.25em;background-color: #f0f8ff;}#sk-container-id-4 input.sk-toggleable__control:checked~div.sk-toggleable__content {max-height: 200px;max-width: 100%;overflow: auto;}#sk-container-id-4 input.sk-toggleable__control:checked~label.sk-toggleable__label-arrow:before {content: \"▾\";}#sk-container-id-4 div.sk-estimator input.sk-toggleable__control:checked~label.sk-toggleable__label {background-color: #d4ebff;}#sk-container-id-4 div.sk-label input.sk-toggleable__control:checked~label.sk-toggleable__label {background-color: #d4ebff;}#sk-container-id-4 input.sk-hidden--visually {border: 0;clip: rect(1px 1px 1px 1px);clip: rect(1px, 1px, 1px, 1px);height: 1px;margin: -1px;overflow: hidden;padding: 0;position: absolute;width: 1px;}#sk-container-id-4 div.sk-estimator {font-family: monospace;background-color: #f0f8ff;border: 1px dotted black;border-radius: 0.25em;box-sizing: border-box;margin-bottom: 0.5em;}#sk-container-id-4 div.sk-estimator:hover {background-color: #d4ebff;}#sk-container-id-4 div.sk-parallel-item::after {content: \"\";width: 100%;border-bottom: 1px solid gray;flex-grow: 1;}#sk-container-id-4 div.sk-label:hover label.sk-toggleable__label {background-color: #d4ebff;}#sk-container-id-4 div.sk-serial::before {content: \"\";position: absolute;border-left: 1px solid gray;box-sizing: border-box;top: 0;bottom: 0;left: 50%;z-index: 0;}#sk-container-id-4 div.sk-serial {display: flex;flex-direction: column;align-items: center;background-color: white;padding-right: 0.2em;padding-left: 0.2em;position: relative;}#sk-container-id-4 div.sk-item {position: relative;z-index: 1;}#sk-container-id-4 div.sk-parallel {display: flex;align-items: stretch;justify-content: center;background-color: white;position: relative;}#sk-container-id-4 div.sk-item::before, #sk-container-id-4 div.sk-parallel-item::before {content: \"\";position: absolute;border-left: 1px solid gray;box-sizing: border-box;top: 0;bottom: 0;left: 50%;z-index: -1;}#sk-container-id-4 div.sk-parallel-item {display: flex;flex-direction: column;z-index: 1;position: relative;background-color: white;}#sk-container-id-4 div.sk-parallel-item:first-child::after {align-self: flex-end;width: 50%;}#sk-container-id-4 div.sk-parallel-item:last-child::after {align-self: flex-start;width: 50%;}#sk-container-id-4 div.sk-parallel-item:only-child::after {width: 0;}#sk-container-id-4 div.sk-dashed-wrapped {border: 1px dashed gray;margin: 0 0.4em 0.5em 0.4em;box-sizing: border-box;padding-bottom: 0.4em;background-color: white;}#sk-container-id-4 div.sk-label label {font-family: monospace;font-weight: bold;display: inline-block;line-height: 1.2em;}#sk-container-id-4 div.sk-label-container {text-align: center;}#sk-container-id-4 div.sk-container {/* jupyter's `normalize.less` sets `[hidden] { display: none; }` but bootstrap.min.css set `[hidden] { display: none !important; }` so we also need the `!important` here to be able to override the default hidden behavior on the sphinx rendered scikit-learn.org. See: https://github.com/scikit-learn/scikit-learn/issues/21755 */display: inline-block !important;position: relative;}#sk-container-id-4 div.sk-text-repr-fallback {display: none;}</style><div id=\"sk-container-id-4\" class=\"sk-top-container\"><div class=\"sk-text-repr-fallback\"><pre>OneHotEncoder(sparse=False, sparse_output=False)</pre><b>In a Jupyter environment, please rerun this cell to show the HTML representation or trust the notebook. <br />On GitHub, the HTML representation is unable to render, please try loading this page with nbviewer.org.</b></div><div class=\"sk-container\" hidden><div class=\"sk-item\"><div class=\"sk-estimator sk-toggleable\"><input class=\"sk-toggleable__control sk-hidden--visually\" id=\"sk-estimator-id-4\" type=\"checkbox\" checked><label for=\"sk-estimator-id-4\" class=\"sk-toggleable__label sk-toggleable__label-arrow\">OneHotEncoder</label><div class=\"sk-toggleable__content\"><pre>OneHotEncoder(sparse=False, sparse_output=False)</pre></div></div></div></div></div>"
      ],
      "text/plain": [
       "OneHotEncoder(sparse=False, sparse_output=False)"
      ]
     },
     "execution_count": 247,
     "metadata": {},
     "output_type": "execute_result"
    }
   ],
   "source": [
    "from sklearn.preprocessing import OneHotEncoder\n",
    "ohe = OneHotEncoder(sparse=False)\n",
    "ohe.fit(x_train[encoding_h])"
   ]
  },
  {
   "cell_type": "code",
   "execution_count": 171,
   "metadata": {},
   "outputs": [],
   "source": [
    "x_train_encoding = ohe.transform(x_train[encoding_h])"
   ]
  },
  {
   "cell_type": "code",
   "execution_count": 172,
   "metadata": {},
   "outputs": [
    {
     "ename": "ValueError",
     "evalue": "Found unknown categories ['U3992', 'C9', 'C14809', 'C16436', 'U9545', 'U701', 'U9636', 'C2820', 'U3516', 'U384', 'C14975', 'C17297', 'U720', 'U3206', 'C14328', 'C14423', 'C12251', 'C26491', 'C11364', 'C20367', 'C18863', 'C4856', 'U5476', 'C2324', 'C16299', 'C6395', 'C7852', 'U6615', 'C3038', 'U8717', 'C19193', 'C363', 'C122', 'U1797', 'C12218', 'C1770', 'C9976', 'C12956', 'C2891', 'U2338', 'U68', 'C13128', 'U9650', 'C6832', 'C19522', 'C2645', 'U4090', 'U3775', 'C1418', 'C12937', 'U1159', 'C478', 'C22507', 'C8200', 'C6544', 'C22008', 'C7612', 'C22088', 'C2863', 'C8996', 'U930', 'U9344', 'U27', 'C23953', 'U1358', 'C6937', 'C241', 'C2077', 'C1488', 'U4858', 'U4915', 'C16557', 'U1900', 'U1999', 'C1471', 'U7757', 'U2134', 'C21108', 'C2203', 'C10845', 'U2430', 'C2602', 'U545', 'C4028', 'U7398', 'C1906', 'U980', 'C18383', 'U3793', 'C6986', 'U9720', 'C4349', 'C9373', 'C4581', 'C804', 'C21490', 'C7780', 'U9128', 'U10222', 'U472', 'C3424', 'U1341', 'U2665', 'C24020', 'C20567', 'U6371', 'C11904', 'C14083', 'C16939', 'C1201', 'C1501', 'C10148', 'C314', 'U9441', 'U2423', 'C15924', 'C23018', 'C5123', 'C1912', 'C15292', 'C19322', 'U9346', 'U234', 'C15477', 'U7405', 'U3948', 'C21833', 'C7158', 'C15013', 'C2117', 'C3042', 'C6135', 'C963', 'U8869', 'C13958', 'U3511', 'C10933', 'C3719', 'C13', 'C9978', 'C1187', 'C16328', 'C11775', 'C18597', 'C13194', 'U1369', 'U9358', 'U5644', 'U891', 'U4576', 'C3003', 'U3692', 'C22873', 'C9825', 'C19112', 'C14581', 'C9851', 'C16512', 'C6474', 'C430', 'C15902', 'C3973', 'C13646', 'U831', 'U7528', 'C15266', 'C3921', 'U4164', 'C1658', 'C14903', 'C2195', 'C13674', 'U849', 'C7483', 'C652', 'C13705', 'U6215', 'C8908', 'C19852', 'C1777', 'C1030', 'C3611', 'C11180', 'C2313', 'C3720', 'C10287', 'C2396', 'C5489', 'U2654', 'U3476', 'C9270', 'C2039', 'C3274', 'C11294', 'U1213', 'U6560', 'C2433', 'C22048', 'U7717', 'U4868', 'C7354', 'U8937', 'C16038', 'C10056', 'U8480', 'C16356', 'U7574', 'C11496', 'U8406', 'C3586', 'U4230', 'C8437', 'C2186', 'C28', 'C6328', 'U2798', 'C16218', 'C1788', 'C8021', 'U3274', 'C24392', 'C19789', 'C3363', 'C5', 'C13328', 'U2352', 'C11059', 'C1552', 'C9400', 'U3603', 'C4909', 'C4820', 'C15984', 'U2602', 'C7065', 'C17370', 'C10852', 'C2633', 'U513', 'C1871', 'C6283', 'C20546', 'C4156', 'C10049', 'U5965', 'C3427', 'U4', 'U5298', 'U7637', 'C35', 'C12036', 'U9175', 'C17796', 'U5532', 'C19881', 'C14544', 'C12705', 'U7732', 'U9203', 'U9393', 'C16060', 'C9485', 'C21115', 'C16439', 'C3309', 'C925', 'C422', 'C7854', 'C14496', 'C4355', 'U4454', 'U372', 'C365', 'C16524', 'U5516', 'C22064', 'C2786', 'C1431', 'C2380', 'C14102', 'C1437', 'C6681', 'C2943', 'C1439', 'C10317', 'C2219', 'U4391', 'U7368', 'U9541', 'C2660', 'C4223', 'C3468', 'C7662', 'C14500', 'U3277', 'C17976', 'C589', 'U8417', 'C2103', 'U5778', 'C19231', 'C15010', 'U20', 'C8350', 'C154', 'C23084', 'C10931', 'C13185', 'C2344', 'C22509', 'C7980', 'C7448', 'C1321', 'C12562', 'C2702', 'U3241', 'U4478', 'C350', 'C7063', 'C10138', 'C23921', 'C24450', 'U5813', 'C17596', 'C16587', 'C9827', 'C12490', 'C5295', 'C19274', 'C3662', 'C433', 'C381', 'U2848', 'C17448', 'U3250', 'U5437', 'U158', 'C25914', 'C1596', 'C15172', 'C453', 'U367', 'U4223', 'C8962', 'C4578', 'U2031', 'C11029', 'C11244', 'C1767', 'C14601', 'C3841', 'C15715', 'C3873', 'C20707', 'U7221', 'U6236', 'C1928', 'C22944', 'U2678', 'U7001', 'C182', 'U3782', 'C22758', 'C3660', 'C4118', 'C13757', 'U5610', 'C3241', 'C832', 'C978', 'C1763', 'C10939', 'U313', 'C712', 'U8661', 'U4604', 'C5974', 'C18238', 'U2326', 'U5440', 'U333', 'C1827', 'U1401', 'U6173', 'U654', 'U7128', 'C18343', 'U8728', 'C1745', 'C6014', 'C5641', 'C18163', 'U8696', 'U2726', 'C2254', 'C15164', 'C16656', 'C12089', 'C1420', 'U8082', 'U1394', 'U2884', 'C8159', 'C7930', 'C4941', 'C634', 'U70', 'U890', 'C12900', 'C8361', 'U7159', 'U5915', 'U3908', 'U6110', 'C5308', 'C9849', 'C12576', 'C19050', 'C12067', 'C15495', 'C2724', 'C526', 'C5336', 'C7217', 'C3960', 'C1998', 'C3384', 'C19505', 'C9347', 'U41', 'C8814', 'C3055', 'C4749', 'C4939', 'C5208', 'C3173', 'C3412', 'C12773', 'U3885', 'C7736', 'U10044', 'C16909', 'C15841', 'C1152', 'C8088', 'C10995', 'U2875', 'C13724', 'C14988', 'C11327', 'C6841', 'C2970', 'C2683', 'C19487', 'C13717', 'U2499', 'C3787', 'U910', 'C24014', 'U1907', 'C2827', 'U99', 'C7513', 'C1467', 'C23586', 'C7497', 'U7813', 'U9335', 'U2749', 'C4116', 'C2825', 'U8069', 'C17720', 'C11292', 'U3649', 'C9756', 'U3275', 'C25919', 'C10786', 'C5041', 'C3460', 'C1247', 'C6723', 'C2465', 'C15326', 'C791', 'U253', 'C6522', 'C23044', 'C24615', 'C1076', 'C4315', 'U5948', 'C20756', 'C4792', 'U8629', 'C7742', 'C16545', 'C22346', 'C2933', 'C15753', 'C14330', 'U3667', 'C9473', 'C24067', 'U9253', 'C20130', 'C16332', 'C3324', 'C4167', 'U6259', 'C17418', 'C19149', 'U2181', 'C7802', 'C10460', 'C6205', 'C789', 'U4260', 'C186', 'C13446', 'C17133', 'U3207', 'C10790', 'U4866', 'C16652', 'C5183', 'C8023', 'U881', 'U2489', 'U7474', 'C1857', 'C4513', 'U453', 'U4939', 'C3377', 'C19856', 'C626', 'U2248', 'U4180', 'U6483', 'C25421', 'U7969', 'C16243', 'U2510', 'C16930', 'C41', 'C1107', 'U1467', 'U101', 'C21785', 'C19509', 'C1356', 'C2350', 'C1273', 'U9750', 'C10223', 'C736', 'U9225', 'U2372', 'U1306', 'C12263', 'C5401', 'C1790', 'C2096', 'C21220', 'U4814', 'C1672', 'C15216', 'C2557', 'C2992', 'U9892', 'C1675', 'U1163', 'C13640', 'C9404', 'C7151', 'C23195', 'C24410', 'U3090', 'C17598', 'C20120', 'U8838', 'C801', 'C1921', 'C24145', 'U7614', 'C12055', 'C13923', 'C23673', 'C4670', 'C11924', 'C686', 'U6793', 'C10688', 'C11167', 'C11804', 'C22503', 'U2082', 'C2370', 'C9815', 'U5095', 'C22511', 'C11001', 'C68', 'C3667', 'C19863', 'C8761', 'C19016', 'U4984', 'C7637', 'C1476', 'U508', 'C10295', 'U903', 'C4310', 'U767', 'C1220', 'U5085', 'C15602', 'C2504', 'C19308', 'C545', 'C11516', 'C6377', 'C1952', 'C2092', 'C16312', 'C675', 'C19118', 'U11095', 'C17759', 'U2719', 'U1388', 'U5991', 'C714', 'C14132', 'U5856', 'C8789', 'C9481', 'C9908', 'C17168', 'C6008', 'C15873', 'C23403', 'C5576', 'U1824', 'C248', 'C9384', 'U3771', 'C543', 'U2563', 'C15648', 'C3965', 'C2021', 'C6039', 'C20220', 'C15339', 'U1789', 'C2317', 'C12318', 'U2804', 'U156', 'C9144', 'C15390', 'C2148', 'C17998', 'C9161', 'C17723', 'C2397', 'C19206', 'C3130', 'C7281', 'C20769', 'U6926', 'U4850', 'C17546', 'C13364', 'C5811', 'U4719', 'U4668', 'C22253', 'C2526', 'U7972', 'C12498', 'U9965', 'C3183', 'C4929', 'U7542', 'U8369', 'C1622', 'C8976', 'C957', 'C20427', 'C8005', 'C7790', 'C2499', 'C7144', 'U9058', 'C7277', 'C7162', 'C15462', 'C2058', 'U5463'] in column 0 during transform",
     "output_type": "error",
     "traceback": [
      "\u001b[0;31m---------------------------------------------------------------------------\u001b[0m",
      "\u001b[0;31mValueError\u001b[0m                                Traceback (most recent call last)",
      "\u001b[0;32m<ipython-input-172-603ad8242a75>\u001b[0m in \u001b[0;36m<module>\u001b[0;34m\u001b[0m\n\u001b[0;32m----> 1\u001b[0;31m \u001b[0mx_test_encoding\u001b[0m \u001b[0;34m=\u001b[0m \u001b[0mohe\u001b[0m\u001b[0;34m.\u001b[0m\u001b[0mtransform\u001b[0m\u001b[0;34m(\u001b[0m\u001b[0mx_test\u001b[0m\u001b[0;34m[\u001b[0m\u001b[0mencoding_h\u001b[0m\u001b[0;34m]\u001b[0m\u001b[0;34m)\u001b[0m\u001b[0;34m\u001b[0m\u001b[0;34m\u001b[0m\u001b[0m\n\u001b[0m",
      "\u001b[0;32m~/.local/lib/python3.8/site-packages/sklearn/utils/_set_output.py\u001b[0m in \u001b[0;36mwrapped\u001b[0;34m(self, X, *args, **kwargs)\u001b[0m\n\u001b[1;32m    140\u001b[0m     \u001b[0;34m@\u001b[0m\u001b[0mwraps\u001b[0m\u001b[0;34m(\u001b[0m\u001b[0mf\u001b[0m\u001b[0;34m)\u001b[0m\u001b[0;34m\u001b[0m\u001b[0;34m\u001b[0m\u001b[0m\n\u001b[1;32m    141\u001b[0m     \u001b[0;32mdef\u001b[0m \u001b[0mwrapped\u001b[0m\u001b[0;34m(\u001b[0m\u001b[0mself\u001b[0m\u001b[0;34m,\u001b[0m \u001b[0mX\u001b[0m\u001b[0;34m,\u001b[0m \u001b[0;34m*\u001b[0m\u001b[0margs\u001b[0m\u001b[0;34m,\u001b[0m \u001b[0;34m**\u001b[0m\u001b[0mkwargs\u001b[0m\u001b[0;34m)\u001b[0m\u001b[0;34m:\u001b[0m\u001b[0;34m\u001b[0m\u001b[0;34m\u001b[0m\u001b[0m\n\u001b[0;32m--> 142\u001b[0;31m         \u001b[0mdata_to_wrap\u001b[0m \u001b[0;34m=\u001b[0m \u001b[0mf\u001b[0m\u001b[0;34m(\u001b[0m\u001b[0mself\u001b[0m\u001b[0;34m,\u001b[0m \u001b[0mX\u001b[0m\u001b[0;34m,\u001b[0m \u001b[0;34m*\u001b[0m\u001b[0margs\u001b[0m\u001b[0;34m,\u001b[0m \u001b[0;34m**\u001b[0m\u001b[0mkwargs\u001b[0m\u001b[0;34m)\u001b[0m\u001b[0;34m\u001b[0m\u001b[0;34m\u001b[0m\u001b[0m\n\u001b[0m\u001b[1;32m    143\u001b[0m         \u001b[0;32mif\u001b[0m \u001b[0misinstance\u001b[0m\u001b[0;34m(\u001b[0m\u001b[0mdata_to_wrap\u001b[0m\u001b[0;34m,\u001b[0m \u001b[0mtuple\u001b[0m\u001b[0;34m)\u001b[0m\u001b[0;34m:\u001b[0m\u001b[0;34m\u001b[0m\u001b[0;34m\u001b[0m\u001b[0m\n\u001b[1;32m    144\u001b[0m             \u001b[0;31m# only wrap the first output for cross decomposition\u001b[0m\u001b[0;34m\u001b[0m\u001b[0;34m\u001b[0m\u001b[0;34m\u001b[0m\u001b[0m\n",
      "\u001b[0;32m~/.local/lib/python3.8/site-packages/sklearn/preprocessing/_encoders.py\u001b[0m in \u001b[0;36mtransform\u001b[0;34m(self, X)\u001b[0m\n\u001b[1;32m    875\u001b[0m             \u001b[0;34m\"infrequent_if_exist\"\u001b[0m\u001b[0;34m,\u001b[0m\u001b[0;34m\u001b[0m\u001b[0;34m\u001b[0m\u001b[0m\n\u001b[1;32m    876\u001b[0m         }\n\u001b[0;32m--> 877\u001b[0;31m         X_int, X_mask = self._transform(\n\u001b[0m\u001b[1;32m    878\u001b[0m             \u001b[0mX\u001b[0m\u001b[0;34m,\u001b[0m\u001b[0;34m\u001b[0m\u001b[0;34m\u001b[0m\u001b[0m\n\u001b[1;32m    879\u001b[0m             \u001b[0mhandle_unknown\u001b[0m\u001b[0;34m=\u001b[0m\u001b[0mself\u001b[0m\u001b[0;34m.\u001b[0m\u001b[0mhandle_unknown\u001b[0m\u001b[0;34m,\u001b[0m\u001b[0;34m\u001b[0m\u001b[0;34m\u001b[0m\u001b[0m\n",
      "\u001b[0;32m~/.local/lib/python3.8/site-packages/sklearn/preprocessing/_encoders.py\u001b[0m in \u001b[0;36m_transform\u001b[0;34m(self, X, handle_unknown, force_all_finite, warn_on_unknown)\u001b[0m\n\u001b[1;32m    172\u001b[0m                         \u001b[0;34m\" during transform\"\u001b[0m\u001b[0;34m.\u001b[0m\u001b[0mformat\u001b[0m\u001b[0;34m(\u001b[0m\u001b[0mdiff\u001b[0m\u001b[0;34m,\u001b[0m \u001b[0mi\u001b[0m\u001b[0;34m)\u001b[0m\u001b[0;34m\u001b[0m\u001b[0;34m\u001b[0m\u001b[0m\n\u001b[1;32m    173\u001b[0m                     )\n\u001b[0;32m--> 174\u001b[0;31m                     \u001b[0;32mraise\u001b[0m \u001b[0mValueError\u001b[0m\u001b[0;34m(\u001b[0m\u001b[0mmsg\u001b[0m\u001b[0;34m)\u001b[0m\u001b[0;34m\u001b[0m\u001b[0;34m\u001b[0m\u001b[0m\n\u001b[0m\u001b[1;32m    175\u001b[0m                 \u001b[0;32melse\u001b[0m\u001b[0;34m:\u001b[0m\u001b[0;34m\u001b[0m\u001b[0;34m\u001b[0m\u001b[0m\n\u001b[1;32m    176\u001b[0m                     \u001b[0;32mif\u001b[0m \u001b[0mwarn_on_unknown\u001b[0m\u001b[0;34m:\u001b[0m\u001b[0;34m\u001b[0m\u001b[0;34m\u001b[0m\u001b[0m\n",
      "\u001b[0;31mValueError\u001b[0m: Found unknown categories ['U3992', 'C9', 'C14809', 'C16436', 'U9545', 'U701', 'U9636', 'C2820', 'U3516', 'U384', 'C14975', 'C17297', 'U720', 'U3206', 'C14328', 'C14423', 'C12251', 'C26491', 'C11364', 'C20367', 'C18863', 'C4856', 'U5476', 'C2324', 'C16299', 'C6395', 'C7852', 'U6615', 'C3038', 'U8717', 'C19193', 'C363', 'C122', 'U1797', 'C12218', 'C1770', 'C9976', 'C12956', 'C2891', 'U2338', 'U68', 'C13128', 'U9650', 'C6832', 'C19522', 'C2645', 'U4090', 'U3775', 'C1418', 'C12937', 'U1159', 'C478', 'C22507', 'C8200', 'C6544', 'C22008', 'C7612', 'C22088', 'C2863', 'C8996', 'U930', 'U9344', 'U27', 'C23953', 'U1358', 'C6937', 'C241', 'C2077', 'C1488', 'U4858', 'U4915', 'C16557', 'U1900', 'U1999', 'C1471', 'U7757', 'U2134', 'C21108', 'C2203', 'C10845', 'U2430', 'C2602', 'U545', 'C4028', 'U7398', 'C1906', 'U980', 'C18383', 'U3793', 'C6986', 'U9720', 'C4349', 'C9373', 'C4581', 'C804', 'C21490', 'C7780', 'U9128', 'U10222', 'U472', 'C3424', 'U1341', 'U2665', 'C24020', 'C20567', 'U6371', 'C11904', 'C14083', 'C16939', 'C1201', 'C1501', 'C10148', 'C314', 'U9441', 'U2423', 'C15924', 'C23018', 'C5123', 'C1912', 'C15292', 'C19322', 'U9346', 'U234', 'C15477', 'U7405', 'U3948', 'C21833', 'C7158', 'C15013', 'C2117', 'C3042', 'C6135', 'C963', 'U8869', 'C13958', 'U3511', 'C10933', 'C3719', 'C13', 'C9978', 'C1187', 'C16328', 'C11775', 'C18597', 'C13194', 'U1369', 'U9358', 'U5644', 'U891', 'U4576', 'C3003', 'U3692', 'C22873', 'C9825', 'C19112', 'C14581', 'C9851', 'C16512', 'C6474', 'C430', 'C15902', 'C3973', 'C13646', 'U831', 'U7528', 'C15266', 'C3921', 'U4164', 'C1658', 'C14903', 'C2195', 'C13674', 'U849', 'C7483', 'C652', 'C13705', 'U6215', 'C8908', 'C19852', 'C1777', 'C1030', 'C3611', 'C11180', 'C2313', 'C3720', 'C10287', 'C2396', 'C5489', 'U2654', 'U3476', 'C9270', 'C2039', 'C3274', 'C11294', 'U1213', 'U6560', 'C2433', 'C22048', 'U7717', 'U4868', 'C7354', 'U8937', 'C16038', 'C10056', 'U8480', 'C16356', 'U7574', 'C11496', 'U8406', 'C3586', 'U4230', 'C8437', 'C2186', 'C28', 'C6328', 'U2798', 'C16218', 'C1788', 'C8021', 'U3274', 'C24392', 'C19789', 'C3363', 'C5', 'C13328', 'U2352', 'C11059', 'C1552', 'C9400', 'U3603', 'C4909', 'C4820', 'C15984', 'U2602', 'C7065', 'C17370', 'C10852', 'C2633', 'U513', 'C1871', 'C6283', 'C20546', 'C4156', 'C10049', 'U5965', 'C3427', 'U4', 'U5298', 'U7637', 'C35', 'C12036', 'U9175', 'C17796', 'U5532', 'C19881', 'C14544', 'C12705', 'U7732', 'U9203', 'U9393', 'C16060', 'C9485', 'C21115', 'C16439', 'C3309', 'C925', 'C422', 'C7854', 'C14496', 'C4355', 'U4454', 'U372', 'C365', 'C16524', 'U5516', 'C22064', 'C2786', 'C1431', 'C2380', 'C14102', 'C1437', 'C6681', 'C2943', 'C1439', 'C10317', 'C2219', 'U4391', 'U7368', 'U9541', 'C2660', 'C4223', 'C3468', 'C7662', 'C14500', 'U3277', 'C17976', 'C589', 'U8417', 'C2103', 'U5778', 'C19231', 'C15010', 'U20', 'C8350', 'C154', 'C23084', 'C10931', 'C13185', 'C2344', 'C22509', 'C7980', 'C7448', 'C1321', 'C12562', 'C2702', 'U3241', 'U4478', 'C350', 'C7063', 'C10138', 'C23921', 'C24450', 'U5813', 'C17596', 'C16587', 'C9827', 'C12490', 'C5295', 'C19274', 'C3662', 'C433', 'C381', 'U2848', 'C17448', 'U3250', 'U5437', 'U158', 'C25914', 'C1596', 'C15172', 'C453', 'U367', 'U4223', 'C8962', 'C4578', 'U2031', 'C11029', 'C11244', 'C1767', 'C14601', 'C3841', 'C15715', 'C3873', 'C20707', 'U7221', 'U6236', 'C1928', 'C22944', 'U2678', 'U7001', 'C182', 'U3782', 'C22758', 'C3660', 'C4118', 'C13757', 'U5610', 'C3241', 'C832', 'C978', 'C1763', 'C10939', 'U313', 'C712', 'U8661', 'U4604', 'C5974', 'C18238', 'U2326', 'U5440', 'U333', 'C1827', 'U1401', 'U6173', 'U654', 'U7128', 'C18343', 'U8728', 'C1745', 'C6014', 'C5641', 'C18163', 'U8696', 'U2726', 'C2254', 'C15164', 'C16656', 'C12089', 'C1420', 'U8082', 'U1394', 'U2884', 'C8159', 'C7930', 'C4941', 'C634', 'U70', 'U890', 'C12900', 'C8361', 'U7159', 'U5915', 'U3908', 'U6110', 'C5308', 'C9849', 'C12576', 'C19050', 'C12067', 'C15495', 'C2724', 'C526', 'C5336', 'C7217', 'C3960', 'C1998', 'C3384', 'C19505', 'C9347', 'U41', 'C8814', 'C3055', 'C4749', 'C4939', 'C5208', 'C3173', 'C3412', 'C12773', 'U3885', 'C7736', 'U10044', 'C16909', 'C15841', 'C1152', 'C8088', 'C10995', 'U2875', 'C13724', 'C14988', 'C11327', 'C6841', 'C2970', 'C2683', 'C19487', 'C13717', 'U2499', 'C3787', 'U910', 'C24014', 'U1907', 'C2827', 'U99', 'C7513', 'C1467', 'C23586', 'C7497', 'U7813', 'U9335', 'U2749', 'C4116', 'C2825', 'U8069', 'C17720', 'C11292', 'U3649', 'C9756', 'U3275', 'C25919', 'C10786', 'C5041', 'C3460', 'C1247', 'C6723', 'C2465', 'C15326', 'C791', 'U253', 'C6522', 'C23044', 'C24615', 'C1076', 'C4315', 'U5948', 'C20756', 'C4792', 'U8629', 'C7742', 'C16545', 'C22346', 'C2933', 'C15753', 'C14330', 'U3667', 'C9473', 'C24067', 'U9253', 'C20130', 'C16332', 'C3324', 'C4167', 'U6259', 'C17418', 'C19149', 'U2181', 'C7802', 'C10460', 'C6205', 'C789', 'U4260', 'C186', 'C13446', 'C17133', 'U3207', 'C10790', 'U4866', 'C16652', 'C5183', 'C8023', 'U881', 'U2489', 'U7474', 'C1857', 'C4513', 'U453', 'U4939', 'C3377', 'C19856', 'C626', 'U2248', 'U4180', 'U6483', 'C25421', 'U7969', 'C16243', 'U2510', 'C16930', 'C41', 'C1107', 'U1467', 'U101', 'C21785', 'C19509', 'C1356', 'C2350', 'C1273', 'U9750', 'C10223', 'C736', 'U9225', 'U2372', 'U1306', 'C12263', 'C5401', 'C1790', 'C2096', 'C21220', 'U4814', 'C1672', 'C15216', 'C2557', 'C2992', 'U9892', 'C1675', 'U1163', 'C13640', 'C9404', 'C7151', 'C23195', 'C24410', 'U3090', 'C17598', 'C20120', 'U8838', 'C801', 'C1921', 'C24145', 'U7614', 'C12055', 'C13923', 'C23673', 'C4670', 'C11924', 'C686', 'U6793', 'C10688', 'C11167', 'C11804', 'C22503', 'U2082', 'C2370', 'C9815', 'U5095', 'C22511', 'C11001', 'C68', 'C3667', 'C19863', 'C8761', 'C19016', 'U4984', 'C7637', 'C1476', 'U508', 'C10295', 'U903', 'C4310', 'U767', 'C1220', 'U5085', 'C15602', 'C2504', 'C19308', 'C545', 'C11516', 'C6377', 'C1952', 'C2092', 'C16312', 'C675', 'C19118', 'U11095', 'C17759', 'U2719', 'U1388', 'U5991', 'C714', 'C14132', 'U5856', 'C8789', 'C9481', 'C9908', 'C17168', 'C6008', 'C15873', 'C23403', 'C5576', 'U1824', 'C248', 'C9384', 'U3771', 'C543', 'U2563', 'C15648', 'C3965', 'C2021', 'C6039', 'C20220', 'C15339', 'U1789', 'C2317', 'C12318', 'U2804', 'U156', 'C9144', 'C15390', 'C2148', 'C17998', 'C9161', 'C17723', 'C2397', 'C19206', 'C3130', 'C7281', 'C20769', 'U6926', 'U4850', 'C17546', 'C13364', 'C5811', 'U4719', 'U4668', 'C22253', 'C2526', 'U7972', 'C12498', 'U9965', 'C3183', 'C4929', 'U7542', 'U8369', 'C1622', 'C8976', 'C957', 'C20427', 'C8005', 'C7790', 'C2499', 'C7144', 'U9058', 'C7277', 'C7162', 'C15462', 'C2058', 'U5463'] in column 0 during transform"
     ]
    }
   ],
   "source": [
    "x_test_encoding = ohe.transform(x_test[encoding_h])\n",
    "# train데이터가 test의 카테고리를 다 소화하지 못함"
   ]
  },
  {
   "cell_type": "code",
   "execution_count": 266,
   "metadata": {},
   "outputs": [
    {
     "name": "stderr",
     "output_type": "stream",
     "text": [
      "/home/shkim/.local/lib/python3.8/site-packages/sklearn/preprocessing/_encoders.py:828: FutureWarning: `sparse` was renamed to `sparse_output` in version 1.2 and will be removed in 1.4. `sparse_output` is ignored unless you leave `sparse` to its default value.\n",
      "  warnings.warn(\n"
     ]
    },
    {
     "data": {
      "text/plain": [
       "array([[1., 0., 0., ..., 0., 0., 0.],\n",
       "       [0., 0., 0., ..., 0., 0., 0.],\n",
       "       [0., 0., 0., ..., 0., 0., 0.],\n",
       "       ...,\n",
       "       [0., 0., 0., ..., 0., 0., 0.],\n",
       "       [0., 0., 0., ..., 0., 0., 0.],\n",
       "       [0., 0., 0., ..., 0., 0., 0.]])"
      ]
     },
     "execution_count": 266,
     "metadata": {},
     "output_type": "execute_result"
    }
   ],
   "source": [
    "from sklearn.preprocessing import OneHotEncoder\n",
    "# 다 합쳐서 시작하기\n",
    "X_all = pd.concat([x_train, x_test])\n",
    "ohe = OneHotEncoder(sparse=False)\n",
    "ohe.fit(X_all[encoding_h])\n",
    "ohe.transform(X_all[encoding_h])"
   ]
  },
  {
   "cell_type": "code",
   "execution_count": 267,
   "metadata": {},
   "outputs": [
    {
     "data": {
      "text/plain": [
       "5"
      ]
     },
     "execution_count": 267,
     "metadata": {},
     "output_type": "execute_result"
    }
   ],
   "source": [
    "len(ohe.categories_)"
   ]
  },
  {
   "cell_type": "code",
   "execution_count": 268,
   "metadata": {},
   "outputs": [],
   "source": [
    "ohe_col = []\n",
    "for col in ohe.categories_:\n",
    "    ohe_col.extend(col.tolist())"
   ]
  },
  {
   "cell_type": "code",
   "execution_count": 269,
   "metadata": {},
   "outputs": [],
   "source": [
    "ohe_df = pd.DataFrame(ohe.transform(X_all[encoding_h]), columns=ohe_col)"
   ]
  },
  {
   "cell_type": "code",
   "execution_count": 271,
   "metadata": {},
   "outputs": [],
   "source": [
    "# 인덱스 맞추기\n",
    "\n",
    "x_train.index\n",
    "ohe_train = ohe_df.iloc[:x_train.shape[0]]\n",
    "ohe_test = ohe_df.iloc[x_train.shape[0]:]\n",
    "ohe_test.reset_index(drop=True, inplace=True)"
   ]
  },
  {
   "cell_type": "code",
   "execution_count": 272,
   "metadata": {},
   "outputs": [],
   "source": [
    "x_train = pd.concat([x_train, ohe_train], axis = 1)\n",
    "x_test = pd.concat([x_test, ohe_test], axis = 1)\n"
   ]
  },
  {
   "cell_type": "code",
   "execution_count": 273,
   "metadata": {},
   "outputs": [
    {
     "data": {
      "text/plain": [
       "((3500, 5420), (1500, 5420))"
      ]
     },
     "execution_count": 273,
     "metadata": {},
     "output_type": "execute_result"
    }
   ],
   "source": [
    "x_train.shape, x_test.shape"
   ]
  },
  {
   "cell_type": "code",
   "execution_count": 285,
   "metadata": {},
   "outputs": [
    {
     "ename": "KeyError",
     "evalue": "\"['s_user' 'd_user' 'a_t' 'logon_type' 'frequency'] not found in axis\"",
     "output_type": "error",
     "traceback": [
      "\u001b[0;31m---------------------------------------------------------------------------\u001b[0m",
      "\u001b[0;31mKeyError\u001b[0m                                  Traceback (most recent call last)",
      "\u001b[0;32m<ipython-input-285-c37b2bace937>\u001b[0m in \u001b[0;36m<module>\u001b[0;34m\u001b[0m\n\u001b[1;32m      1\u001b[0m \u001b[0;31m# 원래 범주형 데이터 삭제\u001b[0m\u001b[0;34m\u001b[0m\u001b[0;34m\u001b[0m\u001b[0;34m\u001b[0m\u001b[0m\n\u001b[0;32m----> 2\u001b[0;31m \u001b[0mx_train\u001b[0m\u001b[0;34m.\u001b[0m\u001b[0mdrop\u001b[0m\u001b[0;34m(\u001b[0m\u001b[0mcolumns\u001b[0m\u001b[0;34m=\u001b[0m\u001b[0mencoding_h\u001b[0m\u001b[0;34m,\u001b[0m \u001b[0minplace\u001b[0m\u001b[0;34m=\u001b[0m\u001b[0;32mTrue\u001b[0m\u001b[0;34m)\u001b[0m\u001b[0;34m\u001b[0m\u001b[0;34m\u001b[0m\u001b[0m\n\u001b[0m\u001b[1;32m      3\u001b[0m \u001b[0mx_test\u001b[0m\u001b[0;34m.\u001b[0m\u001b[0mdrop\u001b[0m\u001b[0;34m(\u001b[0m\u001b[0mcolumns\u001b[0m\u001b[0;34m=\u001b[0m\u001b[0mencoding_h\u001b[0m\u001b[0;34m,\u001b[0m \u001b[0minplace\u001b[0m\u001b[0;34m=\u001b[0m\u001b[0;32mTrue\u001b[0m\u001b[0;34m)\u001b[0m\u001b[0;34m\u001b[0m\u001b[0;34m\u001b[0m\u001b[0m\n",
      "\u001b[0;32m~/.local/lib/python3.8/site-packages/pandas/util/_decorators.py\u001b[0m in \u001b[0;36mwrapper\u001b[0;34m(*args, **kwargs)\u001b[0m\n\u001b[1;32m    329\u001b[0m                     \u001b[0mstacklevel\u001b[0m\u001b[0;34m=\u001b[0m\u001b[0mfind_stack_level\u001b[0m\u001b[0;34m(\u001b[0m\u001b[0;34m)\u001b[0m\u001b[0;34m,\u001b[0m\u001b[0;34m\u001b[0m\u001b[0;34m\u001b[0m\u001b[0m\n\u001b[1;32m    330\u001b[0m                 )\n\u001b[0;32m--> 331\u001b[0;31m             \u001b[0;32mreturn\u001b[0m \u001b[0mfunc\u001b[0m\u001b[0;34m(\u001b[0m\u001b[0;34m*\u001b[0m\u001b[0margs\u001b[0m\u001b[0;34m,\u001b[0m \u001b[0;34m**\u001b[0m\u001b[0mkwargs\u001b[0m\u001b[0;34m)\u001b[0m\u001b[0;34m\u001b[0m\u001b[0;34m\u001b[0m\u001b[0m\n\u001b[0m\u001b[1;32m    332\u001b[0m \u001b[0;34m\u001b[0m\u001b[0m\n\u001b[1;32m    333\u001b[0m         \u001b[0;31m# error: \"Callable[[VarArg(Any), KwArg(Any)], Any]\" has no\u001b[0m\u001b[0;34m\u001b[0m\u001b[0;34m\u001b[0m\u001b[0;34m\u001b[0m\u001b[0m\n",
      "\u001b[0;32m~/.local/lib/python3.8/site-packages/pandas/core/frame.py\u001b[0m in \u001b[0;36mdrop\u001b[0;34m(self, labels, axis, index, columns, level, inplace, errors)\u001b[0m\n\u001b[1;32m   5397\u001b[0m                 \u001b[0mweight\u001b[0m  \u001b[0;36m1.0\u001b[0m     \u001b[0;36m0.8\u001b[0m\u001b[0;34m\u001b[0m\u001b[0;34m\u001b[0m\u001b[0m\n\u001b[1;32m   5398\u001b[0m         \"\"\"\n\u001b[0;32m-> 5399\u001b[0;31m         return super().drop(\n\u001b[0m\u001b[1;32m   5400\u001b[0m             \u001b[0mlabels\u001b[0m\u001b[0;34m=\u001b[0m\u001b[0mlabels\u001b[0m\u001b[0;34m,\u001b[0m\u001b[0;34m\u001b[0m\u001b[0;34m\u001b[0m\u001b[0m\n\u001b[1;32m   5401\u001b[0m             \u001b[0maxis\u001b[0m\u001b[0;34m=\u001b[0m\u001b[0maxis\u001b[0m\u001b[0;34m,\u001b[0m\u001b[0;34m\u001b[0m\u001b[0;34m\u001b[0m\u001b[0m\n",
      "\u001b[0;32m~/.local/lib/python3.8/site-packages/pandas/util/_decorators.py\u001b[0m in \u001b[0;36mwrapper\u001b[0;34m(*args, **kwargs)\u001b[0m\n\u001b[1;32m    329\u001b[0m                     \u001b[0mstacklevel\u001b[0m\u001b[0;34m=\u001b[0m\u001b[0mfind_stack_level\u001b[0m\u001b[0;34m(\u001b[0m\u001b[0;34m)\u001b[0m\u001b[0;34m,\u001b[0m\u001b[0;34m\u001b[0m\u001b[0;34m\u001b[0m\u001b[0m\n\u001b[1;32m    330\u001b[0m                 )\n\u001b[0;32m--> 331\u001b[0;31m             \u001b[0;32mreturn\u001b[0m \u001b[0mfunc\u001b[0m\u001b[0;34m(\u001b[0m\u001b[0;34m*\u001b[0m\u001b[0margs\u001b[0m\u001b[0;34m,\u001b[0m \u001b[0;34m**\u001b[0m\u001b[0mkwargs\u001b[0m\u001b[0;34m)\u001b[0m\u001b[0;34m\u001b[0m\u001b[0;34m\u001b[0m\u001b[0m\n\u001b[0m\u001b[1;32m    332\u001b[0m \u001b[0;34m\u001b[0m\u001b[0m\n\u001b[1;32m    333\u001b[0m         \u001b[0;31m# error: \"Callable[[VarArg(Any), KwArg(Any)], Any]\" has no\u001b[0m\u001b[0;34m\u001b[0m\u001b[0;34m\u001b[0m\u001b[0;34m\u001b[0m\u001b[0m\n",
      "\u001b[0;32m~/.local/lib/python3.8/site-packages/pandas/core/generic.py\u001b[0m in \u001b[0;36mdrop\u001b[0;34m(self, labels, axis, index, columns, level, inplace, errors)\u001b[0m\n\u001b[1;32m   4503\u001b[0m         \u001b[0;32mfor\u001b[0m \u001b[0maxis\u001b[0m\u001b[0;34m,\u001b[0m \u001b[0mlabels\u001b[0m \u001b[0;32min\u001b[0m \u001b[0maxes\u001b[0m\u001b[0;34m.\u001b[0m\u001b[0mitems\u001b[0m\u001b[0;34m(\u001b[0m\u001b[0;34m)\u001b[0m\u001b[0;34m:\u001b[0m\u001b[0;34m\u001b[0m\u001b[0;34m\u001b[0m\u001b[0m\n\u001b[1;32m   4504\u001b[0m             \u001b[0;32mif\u001b[0m \u001b[0mlabels\u001b[0m \u001b[0;32mis\u001b[0m \u001b[0;32mnot\u001b[0m \u001b[0;32mNone\u001b[0m\u001b[0;34m:\u001b[0m\u001b[0;34m\u001b[0m\u001b[0;34m\u001b[0m\u001b[0m\n\u001b[0;32m-> 4505\u001b[0;31m                 \u001b[0mobj\u001b[0m \u001b[0;34m=\u001b[0m \u001b[0mobj\u001b[0m\u001b[0;34m.\u001b[0m\u001b[0m_drop_axis\u001b[0m\u001b[0;34m(\u001b[0m\u001b[0mlabels\u001b[0m\u001b[0;34m,\u001b[0m \u001b[0maxis\u001b[0m\u001b[0;34m,\u001b[0m \u001b[0mlevel\u001b[0m\u001b[0;34m=\u001b[0m\u001b[0mlevel\u001b[0m\u001b[0;34m,\u001b[0m \u001b[0merrors\u001b[0m\u001b[0;34m=\u001b[0m\u001b[0merrors\u001b[0m\u001b[0;34m)\u001b[0m\u001b[0;34m\u001b[0m\u001b[0;34m\u001b[0m\u001b[0m\n\u001b[0m\u001b[1;32m   4506\u001b[0m \u001b[0;34m\u001b[0m\u001b[0m\n\u001b[1;32m   4507\u001b[0m         \u001b[0;32mif\u001b[0m \u001b[0minplace\u001b[0m\u001b[0;34m:\u001b[0m\u001b[0;34m\u001b[0m\u001b[0;34m\u001b[0m\u001b[0m\n",
      "\u001b[0;32m~/.local/lib/python3.8/site-packages/pandas/core/generic.py\u001b[0m in \u001b[0;36m_drop_axis\u001b[0;34m(self, labels, axis, level, errors, only_slice)\u001b[0m\n\u001b[1;32m   4573\u001b[0m                 \u001b[0mlabels_missing\u001b[0m \u001b[0;34m=\u001b[0m \u001b[0;34m(\u001b[0m\u001b[0maxis\u001b[0m\u001b[0;34m.\u001b[0m\u001b[0mget_indexer_for\u001b[0m\u001b[0;34m(\u001b[0m\u001b[0mlabels\u001b[0m\u001b[0;34m)\u001b[0m \u001b[0;34m==\u001b[0m \u001b[0;34m-\u001b[0m\u001b[0;36m1\u001b[0m\u001b[0;34m)\u001b[0m\u001b[0;34m.\u001b[0m\u001b[0many\u001b[0m\u001b[0;34m(\u001b[0m\u001b[0;34m)\u001b[0m\u001b[0;34m\u001b[0m\u001b[0;34m\u001b[0m\u001b[0m\n\u001b[1;32m   4574\u001b[0m                 \u001b[0;32mif\u001b[0m \u001b[0merrors\u001b[0m \u001b[0;34m==\u001b[0m \u001b[0;34m\"raise\"\u001b[0m \u001b[0;32mand\u001b[0m \u001b[0mlabels_missing\u001b[0m\u001b[0;34m:\u001b[0m\u001b[0;34m\u001b[0m\u001b[0;34m\u001b[0m\u001b[0m\n\u001b[0;32m-> 4575\u001b[0;31m                     \u001b[0;32mraise\u001b[0m \u001b[0mKeyError\u001b[0m\u001b[0;34m(\u001b[0m\u001b[0;34mf\"{labels} not found in axis\"\u001b[0m\u001b[0;34m)\u001b[0m\u001b[0;34m\u001b[0m\u001b[0;34m\u001b[0m\u001b[0m\n\u001b[0m\u001b[1;32m   4576\u001b[0m \u001b[0;34m\u001b[0m\u001b[0m\n\u001b[1;32m   4577\u001b[0m             \u001b[0;32mif\u001b[0m \u001b[0mis_extension_array_dtype\u001b[0m\u001b[0;34m(\u001b[0m\u001b[0mmask\u001b[0m\u001b[0;34m.\u001b[0m\u001b[0mdtype\u001b[0m\u001b[0;34m)\u001b[0m\u001b[0;34m:\u001b[0m\u001b[0;34m\u001b[0m\u001b[0;34m\u001b[0m\u001b[0m\n",
      "\u001b[0;31mKeyError\u001b[0m: \"['s_user' 'd_user' 'a_t' 'logon_type' 'frequency'] not found in axis\""
     ]
    }
   ],
   "source": [
    "# 원래 범주형 데이터 삭제\n",
    "x_train.drop(columns=encoding_h, inplace=True)\n",
    "x_test.drop(columns=encoding_h, inplace=True)"
   ]
  },
  {
   "cell_type": "code",
   "execution_count": 278,
   "metadata": {},
   "outputs": [
    {
     "data": {
      "text/plain": [
       "array([0, 1])"
      ]
     },
     "execution_count": 278,
     "metadata": {},
     "output_type": "execute_result"
    }
   ],
   "source": []
  },
  {
   "attachments": {},
   "cell_type": "markdown",
   "metadata": {},
   "source": [
    "# abnormal detection\n",
    "# case 1: group header s_user, d_user, a_t, logon_type, frequency만 one-hot-encoding한경우\n",
    "# case 2: 모든 데이터를 one-hot-encoding한 경우"
   ]
  },
  {
   "cell_type": "code",
   "execution_count": 286,
   "metadata": {},
   "outputs": [
    {
     "data": {
      "text/plain": [
       "['time',\n",
       " 's_user',\n",
       " 's_domain',\n",
       " 'd_user',\n",
       " 'd_domain',\n",
       " 'scom',\n",
       " 'dcom',\n",
       " 'a_t',\n",
       " 'logon_type',\n",
       " 'a_ot',\n",
       " 's/f']"
      ]
     },
     "execution_count": 286,
     "metadata": {},
     "output_type": "execute_result"
    }
   ],
   "source": [
    "df_auth_cols"
   ]
  },
  {
   "attachments": {},
   "cell_type": "markdown",
   "metadata": {},
   "source": [
    "# case 1"
   ]
  },
  {
   "cell_type": "code",
   "execution_count": 337,
   "metadata": {},
   "outputs": [],
   "source": [
    "x_train_1 = x_train.drop([\"time\", \"s_domain\",\"d_domain\", \"scom\",\"dcom\", \"a_ot\", \"s/f\"], axis = 1)\n",
    "x_test_1 =x_test.drop([\"time\", \"s_domain\",\"d_domain\", \"scom\",\"dcom\", \"a_ot\", \"s/f\"], axis = 1)"
   ]
  },
  {
   "attachments": {},
   "cell_type": "markdown",
   "metadata": {},
   "source": [
    "# Alogrithme kNN"
   ]
  },
  {
   "cell_type": "code",
   "execution_count": 279,
   "metadata": {},
   "outputs": [
    {
     "name": "stdout",
     "output_type": "stream",
     "text": [
      "Collecting pyod\n",
      "  Downloading pyod-1.0.7.tar.gz (147 kB)\n",
      "\u001b[K     |████████████████████████████████| 147 kB 6.7 MB/s eta 0:00:01\n",
      "\u001b[?25hRequirement already satisfied: joblib in /home/shkim/.local/lib/python3.8/site-packages (from pyod) (1.2.0)\n",
      "Requirement already satisfied: matplotlib in /home/shkim/.local/lib/python3.8/site-packages (from pyod) (3.6.3)\n",
      "Requirement already satisfied: numba>=0.51 in /home/shkim/.local/lib/python3.8/site-packages (from pyod) (0.56.4)\n",
      "Requirement already satisfied: numpy>=1.19 in /home/shkim/.local/lib/python3.8/site-packages (from pyod) (1.23.5)\n",
      "Requirement already satisfied: scikit_learn>=0.20.0 in /home/shkim/.local/lib/python3.8/site-packages (from pyod) (1.2.1)\n",
      "Requirement already satisfied: scipy>=1.5.1 in /home/shkim/.local/lib/python3.8/site-packages (from pyod) (1.10.0)\n",
      "Requirement already satisfied: six in /usr/lib/python3/dist-packages (from pyod) (1.14.0)\n",
      "Collecting statsmodels\n",
      "  Downloading statsmodels-0.13.5-cp38-cp38-manylinux_2_17_x86_64.manylinux2014_x86_64.whl (9.9 MB)\n",
      "\u001b[K     |████████████████████████████████| 9.9 MB 6.3 MB/s eta 0:00:01\n",
      "\u001b[?25hRequirement already satisfied: python-dateutil>=2.7 in /home/shkim/.local/lib/python3.8/site-packages (from matplotlib->pyod) (2.8.2)\n",
      "Requirement already satisfied: kiwisolver>=1.0.1 in /home/shkim/.local/lib/python3.8/site-packages (from matplotlib->pyod) (1.4.4)\n",
      "Requirement already satisfied: pyparsing>=2.2.1 in /home/shkim/.local/lib/python3.8/site-packages (from matplotlib->pyod) (3.0.9)\n",
      "Requirement already satisfied: packaging>=20.0 in /home/shkim/.local/lib/python3.8/site-packages (from matplotlib->pyod) (23.0)\n",
      "Requirement already satisfied: pillow>=6.2.0 in /usr/lib/python3/dist-packages (from matplotlib->pyod) (7.0.0)\n",
      "Requirement already satisfied: fonttools>=4.22.0 in /home/shkim/.local/lib/python3.8/site-packages (from matplotlib->pyod) (4.38.0)\n",
      "Requirement already satisfied: contourpy>=1.0.1 in /home/shkim/.local/lib/python3.8/site-packages (from matplotlib->pyod) (1.0.7)\n",
      "Requirement already satisfied: cycler>=0.10 in /home/shkim/.local/lib/python3.8/site-packages (from matplotlib->pyod) (0.11.0)\n",
      "Requirement already satisfied: importlib-metadata; python_version < \"3.9\" in /home/shkim/.local/lib/python3.8/site-packages (from numba>=0.51->pyod) (6.0.0)\n",
      "Requirement already satisfied: llvmlite<0.40,>=0.39.0dev0 in /home/shkim/.local/lib/python3.8/site-packages (from numba>=0.51->pyod) (0.39.1)\n",
      "Requirement already satisfied: setuptools in /usr/lib/python3/dist-packages (from numba>=0.51->pyod) (45.2.0)\n",
      "Requirement already satisfied: threadpoolctl>=2.0.0 in /home/shkim/.local/lib/python3.8/site-packages (from scikit_learn>=0.20.0->pyod) (3.1.0)\n",
      "Collecting patsy>=0.5.2\n",
      "  Downloading patsy-0.5.3-py2.py3-none-any.whl (233 kB)\n",
      "\u001b[K     |████████████████████████████████| 233 kB 6.9 MB/s eta 0:00:01\n",
      "\u001b[?25hRequirement already satisfied: pandas>=0.25 in /home/shkim/.local/lib/python3.8/site-packages (from statsmodels->pyod) (1.5.3)\n",
      "Requirement already satisfied: zipp>=0.5 in /usr/lib/python3/dist-packages (from importlib-metadata; python_version < \"3.9\"->numba>=0.51->pyod) (1.0.0)\n",
      "Requirement already satisfied: pytz>=2020.1 in /home/shkim/.local/lib/python3.8/site-packages (from pandas>=0.25->statsmodels->pyod) (2022.7.1)\n",
      "Building wheels for collected packages: pyod\n",
      "  Building wheel for pyod (setup.py) ... \u001b[?25ldone\n",
      "\u001b[?25h  Created wheel for pyod: filename=pyod-1.0.7-py3-none-any.whl size=181092 sha256=55c1a9e65cf64866014d3a804dbebe749c897ef83396e248315fc5dcdc74d562\n",
      "  Stored in directory: /home/shkim/.cache/pip/wheels/f7/e2/c1/1c7fd8b261e72411f6509afb429c84532e40ddcd96074473f4\n",
      "Successfully built pyod\n",
      "Installing collected packages: patsy, statsmodels, pyod\n",
      "Successfully installed patsy-0.5.3 pyod-1.0.7 statsmodels-0.13.5\n"
     ]
    }
   ],
   "source": [
    "#!pip install pyod"
   ]
  },
  {
   "cell_type": "code",
   "execution_count": 280,
   "metadata": {},
   "outputs": [],
   "source": [
    "from pyod.utils.example import visualize\n",
    "from pyod.utils.data import evaluate_print\n",
    "from pyod.utils.data import generate_data\n",
    "from pyod.models.knn import KNN"
   ]
  },
  {
   "cell_type": "code",
   "execution_count": 281,
   "metadata": {},
   "outputs": [],
   "source": [
    "# set parameter\n",
    "\n",
    "algorithm='auto'\n",
    "contamination=0.1\n",
    "leaf_size=30\n",
    "method='largest',\n",
    "metric='minkowski'\n",
    "metric_params=None\n",
    "n_jobs=1\n",
    "n_neighbors=100, \n",
    "p=2,\n",
    "radius=1.0\n"
   ]
  },
  {
   "cell_type": "code",
   "execution_count": 290,
   "metadata": {},
   "outputs": [
    {
     "data": {
      "text/plain": [
       "KNN(algorithm='auto', contamination=0.1, leaf_size=30, method='largest',\n",
       "  metric='minkowski', metric_params=None, n_jobs=1, n_neighbors=100, p=2,\n",
       "  radius=1.0)"
      ]
     },
     "execution_count": 290,
     "metadata": {},
     "output_type": "execute_result"
    }
   ],
   "source": [
    "# ▶ 모델 생성 및 학습\n",
    "clf_name = 'KNN'\n",
    "clf = KNN(algorithm='auto',contamination=0.1,leaf_size=30,method='largest',metric='minkowski',metric_params=None,n_jobs=1,n_neighbors=100, p=2,radius=1.0)\n",
    "clf.fit(x_train_1)"
   ]
  },
  {
   "cell_type": "code",
   "execution_count": 294,
   "metadata": {},
   "outputs": [],
   "source": [
    "# ▶ Train set score\n",
    "y_train_pred = clf.labels_\n",
    "y_train_scores = clf.decision_scores_"
   ]
  },
  {
   "cell_type": "code",
   "execution_count": 295,
   "metadata": {},
   "outputs": [],
   "source": [
    "# ▶ Test set score\n",
    "y_test_pred = clf.predict(x_test_1)\n",
    "y_test_scores = clf.decision_function(x_test_1)\n",
    "#수행시간 1m 18.2s"
   ]
  },
  {
   "cell_type": "code",
   "execution_count": 296,
   "metadata": {},
   "outputs": [
    {
     "name": "stdout",
     "output_type": "stream",
     "text": [
      "On Training Data:\n",
      "KNN ROC:0.5955, precision @ rank n:0.3116\n",
      "\n",
      "On Test Data:\n",
      "KNN ROC:0.5312, precision @ rank n:0.2295\n"
     ]
    }
   ],
   "source": [
    "# ▶ ROC : 분류기 성능\n",
    "# ▶ precision @ n : 예측한 것 중에 정답률\n",
    "\n",
    "print(\"On Training Data:\")\n",
    "evaluate_print(clf_name, y_train, y_train_scores)\n",
    "\n",
    "print(\"\\nOn Test Data:\")\n",
    "evaluate_print(clf_name, y_test, y_test_scores)"
   ]
  },
  {
   "cell_type": "code",
   "execution_count": 302,
   "metadata": {},
   "outputs": [],
   "source": [
    "# confusion matrix\n",
    "from sklearn.metrics import confusion_matrix\n",
    "\n",
    "cf = confusion_matrix(y_train, y_train_pred)"
   ]
  },
  {
   "cell_type": "code",
   "execution_count": 306,
   "metadata": {},
   "outputs": [
    {
     "name": "stdout",
     "output_type": "stream",
     "text": [
      "[[2986   13]\n",
      " [ 493    8]]\n",
      "              precision    recall  f1-score   support\n",
      "\n",
      "           0       0.86      1.00      0.92      2999\n",
      "           1       0.38      0.02      0.03       501\n",
      "\n",
      "    accuracy                           0.86      3500\n",
      "   macro avg       0.62      0.51      0.48      3500\n",
      "weighted avg       0.79      0.86      0.79      3500\n",
      "\n",
      "-------------------------------------------------------\n",
      "              precision    recall  f1-score   support\n",
      "\n",
      "           0       0.86      1.00      0.92      1285\n",
      "           1       1.00      0.03      0.05       215\n",
      "\n",
      "    accuracy                           0.86      1500\n",
      "   macro avg       0.93      0.51      0.49      1500\n",
      "weighted avg       0.88      0.86      0.80      1500\n",
      "\n"
     ]
    }
   ],
   "source": [
    "from sklearn.metrics import classification_report\n",
    "\n",
    "print(cf)\n",
    "print(classification_report(y_train, y_train_pred))\n",
    "print(\"-------------------------------------------------------\")\n",
    "print(classification_report(y_test, y_test_pred))"
   ]
  },
  {
   "attachments": {},
   "cell_type": "markdown",
   "metadata": {},
   "source": [
    "# Algorithm LOF"
   ]
  },
  {
   "cell_type": "code",
   "execution_count": 308,
   "metadata": {},
   "outputs": [],
   "source": [
    "import numpy as np\n",
    "import pandas as pd\n",
    "from sklearn.neighbors import LocalOutlierFactor"
   ]
  },
  {
   "cell_type": "code",
   "execution_count": 311,
   "metadata": {},
   "outputs": [],
   "source": [
    "x_train_1.columns = x_train_1.columns.astype(str)"
   ]
  },
  {
   "cell_type": "code",
   "execution_count": 319,
   "metadata": {},
   "outputs": [
    {
     "data": {
      "text/html": [
       "<div>\n",
       "<style scoped>\n",
       "    .dataframe tbody tr th:only-of-type {\n",
       "        vertical-align: middle;\n",
       "    }\n",
       "\n",
       "    .dataframe tbody tr th {\n",
       "        vertical-align: top;\n",
       "    }\n",
       "\n",
       "    .dataframe thead th {\n",
       "        text-align: right;\n",
       "    }\n",
       "</style>\n",
       "<table border=\"1\" class=\"dataframe\">\n",
       "  <thead>\n",
       "    <tr style=\"text-align: right;\">\n",
       "      <th></th>\n",
       "      <th>ANONYMOUS LOGON</th>\n",
       "      <th>C10</th>\n",
       "      <th>C10010</th>\n",
       "      <th>C10012</th>\n",
       "      <th>C10031</th>\n",
       "      <th>C10049</th>\n",
       "      <th>C10056</th>\n",
       "      <th>C10065</th>\n",
       "      <th>C10075</th>\n",
       "      <th>C1008</th>\n",
       "      <th>...</th>\n",
       "      <th>6.0</th>\n",
       "      <th>7.0</th>\n",
       "      <th>8.0</th>\n",
       "      <th>9.0</th>\n",
       "      <th>10.0</th>\n",
       "      <th>11.0</th>\n",
       "      <th>17.0</th>\n",
       "      <th>23.0</th>\n",
       "      <th>nan</th>\n",
       "      <th>outlier</th>\n",
       "    </tr>\n",
       "  </thead>\n",
       "  <tbody>\n",
       "    <tr>\n",
       "      <th>0</th>\n",
       "      <td>1.0</td>\n",
       "      <td>0.0</td>\n",
       "      <td>0.0</td>\n",
       "      <td>0.0</td>\n",
       "      <td>0.0</td>\n",
       "      <td>0.0</td>\n",
       "      <td>0.0</td>\n",
       "      <td>0.0</td>\n",
       "      <td>0.0</td>\n",
       "      <td>0.0</td>\n",
       "      <td>...</td>\n",
       "      <td>0.0</td>\n",
       "      <td>0.0</td>\n",
       "      <td>0.0</td>\n",
       "      <td>0.0</td>\n",
       "      <td>0.0</td>\n",
       "      <td>0.0</td>\n",
       "      <td>0.0</td>\n",
       "      <td>0.0</td>\n",
       "      <td>0.0</td>\n",
       "      <td>1</td>\n",
       "    </tr>\n",
       "    <tr>\n",
       "      <th>1</th>\n",
       "      <td>0.0</td>\n",
       "      <td>0.0</td>\n",
       "      <td>0.0</td>\n",
       "      <td>0.0</td>\n",
       "      <td>0.0</td>\n",
       "      <td>0.0</td>\n",
       "      <td>0.0</td>\n",
       "      <td>0.0</td>\n",
       "      <td>0.0</td>\n",
       "      <td>0.0</td>\n",
       "      <td>...</td>\n",
       "      <td>0.0</td>\n",
       "      <td>0.0</td>\n",
       "      <td>0.0</td>\n",
       "      <td>0.0</td>\n",
       "      <td>0.0</td>\n",
       "      <td>0.0</td>\n",
       "      <td>0.0</td>\n",
       "      <td>0.0</td>\n",
       "      <td>0.0</td>\n",
       "      <td>1</td>\n",
       "    </tr>\n",
       "    <tr>\n",
       "      <th>2</th>\n",
       "      <td>0.0</td>\n",
       "      <td>0.0</td>\n",
       "      <td>0.0</td>\n",
       "      <td>0.0</td>\n",
       "      <td>0.0</td>\n",
       "      <td>0.0</td>\n",
       "      <td>0.0</td>\n",
       "      <td>0.0</td>\n",
       "      <td>0.0</td>\n",
       "      <td>0.0</td>\n",
       "      <td>...</td>\n",
       "      <td>0.0</td>\n",
       "      <td>0.0</td>\n",
       "      <td>0.0</td>\n",
       "      <td>0.0</td>\n",
       "      <td>0.0</td>\n",
       "      <td>0.0</td>\n",
       "      <td>0.0</td>\n",
       "      <td>0.0</td>\n",
       "      <td>0.0</td>\n",
       "      <td>1</td>\n",
       "    </tr>\n",
       "    <tr>\n",
       "      <th>3</th>\n",
       "      <td>0.0</td>\n",
       "      <td>0.0</td>\n",
       "      <td>0.0</td>\n",
       "      <td>0.0</td>\n",
       "      <td>0.0</td>\n",
       "      <td>0.0</td>\n",
       "      <td>0.0</td>\n",
       "      <td>0.0</td>\n",
       "      <td>0.0</td>\n",
       "      <td>0.0</td>\n",
       "      <td>...</td>\n",
       "      <td>0.0</td>\n",
       "      <td>0.0</td>\n",
       "      <td>0.0</td>\n",
       "      <td>0.0</td>\n",
       "      <td>0.0</td>\n",
       "      <td>0.0</td>\n",
       "      <td>0.0</td>\n",
       "      <td>0.0</td>\n",
       "      <td>0.0</td>\n",
       "      <td>1</td>\n",
       "    </tr>\n",
       "    <tr>\n",
       "      <th>4</th>\n",
       "      <td>0.0</td>\n",
       "      <td>0.0</td>\n",
       "      <td>0.0</td>\n",
       "      <td>0.0</td>\n",
       "      <td>0.0</td>\n",
       "      <td>0.0</td>\n",
       "      <td>0.0</td>\n",
       "      <td>0.0</td>\n",
       "      <td>0.0</td>\n",
       "      <td>0.0</td>\n",
       "      <td>...</td>\n",
       "      <td>0.0</td>\n",
       "      <td>0.0</td>\n",
       "      <td>0.0</td>\n",
       "      <td>0.0</td>\n",
       "      <td>0.0</td>\n",
       "      <td>0.0</td>\n",
       "      <td>0.0</td>\n",
       "      <td>0.0</td>\n",
       "      <td>0.0</td>\n",
       "      <td>1</td>\n",
       "    </tr>\n",
       "    <tr>\n",
       "      <th>...</th>\n",
       "      <td>...</td>\n",
       "      <td>...</td>\n",
       "      <td>...</td>\n",
       "      <td>...</td>\n",
       "      <td>...</td>\n",
       "      <td>...</td>\n",
       "      <td>...</td>\n",
       "      <td>...</td>\n",
       "      <td>...</td>\n",
       "      <td>...</td>\n",
       "      <td>...</td>\n",
       "      <td>...</td>\n",
       "      <td>...</td>\n",
       "      <td>...</td>\n",
       "      <td>...</td>\n",
       "      <td>...</td>\n",
       "      <td>...</td>\n",
       "      <td>...</td>\n",
       "      <td>...</td>\n",
       "      <td>...</td>\n",
       "      <td>...</td>\n",
       "    </tr>\n",
       "    <tr>\n",
       "      <th>3495</th>\n",
       "      <td>0.0</td>\n",
       "      <td>0.0</td>\n",
       "      <td>0.0</td>\n",
       "      <td>0.0</td>\n",
       "      <td>0.0</td>\n",
       "      <td>0.0</td>\n",
       "      <td>0.0</td>\n",
       "      <td>0.0</td>\n",
       "      <td>0.0</td>\n",
       "      <td>0.0</td>\n",
       "      <td>...</td>\n",
       "      <td>0.0</td>\n",
       "      <td>0.0</td>\n",
       "      <td>0.0</td>\n",
       "      <td>0.0</td>\n",
       "      <td>0.0</td>\n",
       "      <td>0.0</td>\n",
       "      <td>0.0</td>\n",
       "      <td>0.0</td>\n",
       "      <td>0.0</td>\n",
       "      <td>1</td>\n",
       "    </tr>\n",
       "    <tr>\n",
       "      <th>3496</th>\n",
       "      <td>0.0</td>\n",
       "      <td>0.0</td>\n",
       "      <td>0.0</td>\n",
       "      <td>0.0</td>\n",
       "      <td>0.0</td>\n",
       "      <td>0.0</td>\n",
       "      <td>0.0</td>\n",
       "      <td>0.0</td>\n",
       "      <td>0.0</td>\n",
       "      <td>0.0</td>\n",
       "      <td>...</td>\n",
       "      <td>0.0</td>\n",
       "      <td>0.0</td>\n",
       "      <td>0.0</td>\n",
       "      <td>0.0</td>\n",
       "      <td>0.0</td>\n",
       "      <td>0.0</td>\n",
       "      <td>0.0</td>\n",
       "      <td>0.0</td>\n",
       "      <td>0.0</td>\n",
       "      <td>1</td>\n",
       "    </tr>\n",
       "    <tr>\n",
       "      <th>3497</th>\n",
       "      <td>0.0</td>\n",
       "      <td>0.0</td>\n",
       "      <td>0.0</td>\n",
       "      <td>0.0</td>\n",
       "      <td>0.0</td>\n",
       "      <td>0.0</td>\n",
       "      <td>0.0</td>\n",
       "      <td>0.0</td>\n",
       "      <td>0.0</td>\n",
       "      <td>0.0</td>\n",
       "      <td>...</td>\n",
       "      <td>0.0</td>\n",
       "      <td>0.0</td>\n",
       "      <td>0.0</td>\n",
       "      <td>0.0</td>\n",
       "      <td>0.0</td>\n",
       "      <td>0.0</td>\n",
       "      <td>0.0</td>\n",
       "      <td>0.0</td>\n",
       "      <td>0.0</td>\n",
       "      <td>1</td>\n",
       "    </tr>\n",
       "    <tr>\n",
       "      <th>3498</th>\n",
       "      <td>0.0</td>\n",
       "      <td>0.0</td>\n",
       "      <td>0.0</td>\n",
       "      <td>0.0</td>\n",
       "      <td>0.0</td>\n",
       "      <td>0.0</td>\n",
       "      <td>0.0</td>\n",
       "      <td>0.0</td>\n",
       "      <td>0.0</td>\n",
       "      <td>0.0</td>\n",
       "      <td>...</td>\n",
       "      <td>0.0</td>\n",
       "      <td>0.0</td>\n",
       "      <td>0.0</td>\n",
       "      <td>0.0</td>\n",
       "      <td>0.0</td>\n",
       "      <td>0.0</td>\n",
       "      <td>0.0</td>\n",
       "      <td>0.0</td>\n",
       "      <td>0.0</td>\n",
       "      <td>1</td>\n",
       "    </tr>\n",
       "    <tr>\n",
       "      <th>3499</th>\n",
       "      <td>0.0</td>\n",
       "      <td>0.0</td>\n",
       "      <td>0.0</td>\n",
       "      <td>0.0</td>\n",
       "      <td>0.0</td>\n",
       "      <td>0.0</td>\n",
       "      <td>0.0</td>\n",
       "      <td>0.0</td>\n",
       "      <td>0.0</td>\n",
       "      <td>0.0</td>\n",
       "      <td>...</td>\n",
       "      <td>0.0</td>\n",
       "      <td>0.0</td>\n",
       "      <td>0.0</td>\n",
       "      <td>0.0</td>\n",
       "      <td>0.0</td>\n",
       "      <td>0.0</td>\n",
       "      <td>0.0</td>\n",
       "      <td>0.0</td>\n",
       "      <td>0.0</td>\n",
       "      <td>1</td>\n",
       "    </tr>\n",
       "  </tbody>\n",
       "</table>\n",
       "<p>3500 rows × 5409 columns</p>\n",
       "</div>"
      ],
      "text/plain": [
       "      ANONYMOUS LOGON  C10  C10010  C10012  C10031  C10049  C10056  C10065  \\\n",
       "0                 1.0  0.0     0.0     0.0     0.0     0.0     0.0     0.0   \n",
       "1                 0.0  0.0     0.0     0.0     0.0     0.0     0.0     0.0   \n",
       "2                 0.0  0.0     0.0     0.0     0.0     0.0     0.0     0.0   \n",
       "3                 0.0  0.0     0.0     0.0     0.0     0.0     0.0     0.0   \n",
       "4                 0.0  0.0     0.0     0.0     0.0     0.0     0.0     0.0   \n",
       "...               ...  ...     ...     ...     ...     ...     ...     ...   \n",
       "3495              0.0  0.0     0.0     0.0     0.0     0.0     0.0     0.0   \n",
       "3496              0.0  0.0     0.0     0.0     0.0     0.0     0.0     0.0   \n",
       "3497              0.0  0.0     0.0     0.0     0.0     0.0     0.0     0.0   \n",
       "3498              0.0  0.0     0.0     0.0     0.0     0.0     0.0     0.0   \n",
       "3499              0.0  0.0     0.0     0.0     0.0     0.0     0.0     0.0   \n",
       "\n",
       "      C10075  C1008  ...  6.0  7.0  8.0  9.0  10.0  11.0  17.0  23.0  nan  \\\n",
       "0        0.0    0.0  ...  0.0  0.0  0.0  0.0   0.0   0.0   0.0   0.0  0.0   \n",
       "1        0.0    0.0  ...  0.0  0.0  0.0  0.0   0.0   0.0   0.0   0.0  0.0   \n",
       "2        0.0    0.0  ...  0.0  0.0  0.0  0.0   0.0   0.0   0.0   0.0  0.0   \n",
       "3        0.0    0.0  ...  0.0  0.0  0.0  0.0   0.0   0.0   0.0   0.0  0.0   \n",
       "4        0.0    0.0  ...  0.0  0.0  0.0  0.0   0.0   0.0   0.0   0.0  0.0   \n",
       "...      ...    ...  ...  ...  ...  ...  ...   ...   ...   ...   ...  ...   \n",
       "3495     0.0    0.0  ...  0.0  0.0  0.0  0.0   0.0   0.0   0.0   0.0  0.0   \n",
       "3496     0.0    0.0  ...  0.0  0.0  0.0  0.0   0.0   0.0   0.0   0.0  0.0   \n",
       "3497     0.0    0.0  ...  0.0  0.0  0.0  0.0   0.0   0.0   0.0   0.0  0.0   \n",
       "3498     0.0    0.0  ...  0.0  0.0  0.0  0.0   0.0   0.0   0.0   0.0  0.0   \n",
       "3499     0.0    0.0  ...  0.0  0.0  0.0  0.0   0.0   0.0   0.0   0.0  0.0   \n",
       "\n",
       "      outlier  \n",
       "0           1  \n",
       "1           1  \n",
       "2           1  \n",
       "3           1  \n",
       "4           1  \n",
       "...       ...  \n",
       "3495        1  \n",
       "3496        1  \n",
       "3497        1  \n",
       "3498        1  \n",
       "3499        1  \n",
       "\n",
       "[3500 rows x 5409 columns]"
      ]
     },
     "execution_count": 319,
     "metadata": {},
     "output_type": "execute_result"
    }
   ],
   "source": [
    "# ▶ 모델 생성 및 예측\n",
    "outlier = LocalOutlierFactor(algorithm='auto', contamination=0.1, leaf_size=30,\n",
    "  metric='minkowski', metric_params=None, n_jobs=1, n_neighbors=300, p=2)\n",
    "y_predict = outlier.fit_predict(x_train_1)\n",
    "x_train_1['outlier'] = y_predict\n",
    "x_train_1\n",
    "\n",
    "# 실행시간 1.4ch\n",
    "\n",
    "\n"
   ]
  },
  {
   "cell_type": "code",
   "execution_count": 324,
   "metadata": {},
   "outputs": [
    {
     "data": {
      "text/plain": [
       "array([-0.99672064, -0.99998153, -0.99983342, ..., -0.99998153,\n",
       "       -0.99983342, -0.99983342])"
      ]
     },
     "execution_count": 324,
     "metadata": {},
     "output_type": "execute_result"
    }
   ],
   "source": [
    "# ▶ LOF 값 확인\n",
    "# ▶ negative_outlier_factor_ : The opposite LOF of the training samples.\n",
    "outlier.negative_outlier_factor_"
   ]
  },
  {
   "cell_type": "code",
   "execution_count": 322,
   "metadata": {},
   "outputs": [
    {
     "data": {
      "text/plain": [
       "0    0.856857\n",
       "1    0.143143\n",
       "Name: positive, dtype: float64"
      ]
     },
     "execution_count": 322,
     "metadata": {},
     "output_type": "execute_result"
    }
   ],
   "source": [
    "# ▶ Train data Target ratio 확인\n",
    "pd.Series(y_train[\"positive\"]).value_counts(normalize=True)"
   ]
  },
  {
   "cell_type": "code",
   "execution_count": 323,
   "metadata": {},
   "outputs": [
    {
     "data": {
      "text/plain": [
       "0    0.856667\n",
       "1    0.143333\n",
       "Name: positive, dtype: float64"
      ]
     },
     "execution_count": 323,
     "metadata": {},
     "output_type": "execute_result"
    }
   ],
   "source": [
    "# ▶ Test data Target ratio 확인\n",
    "pd.Series(y_test[\"positive\"]).value_counts(normalize=True)"
   ]
  },
  {
   "cell_type": "code",
   "execution_count": 328,
   "metadata": {},
   "outputs": [],
   "source": [
    "# confusion matrix\n",
    "from sklearn.metrics import confusion_matrix\n",
    "\n",
    "cf = confusion_matrix(y_train,y_predict)"
   ]
  },
  {
   "cell_type": "code",
   "execution_count": 329,
   "metadata": {},
   "outputs": [
    {
     "name": "stdout",
     "output_type": "stream",
     "text": [
      "[[   0    0    0]\n",
      " [ 217    0 2782]\n",
      " [ 131    0  370]]\n",
      "              precision    recall  f1-score   support\n",
      "\n",
      "           0       0.86      1.00      0.92      2999\n",
      "           1       0.38      0.02      0.03       501\n",
      "\n",
      "    accuracy                           0.86      3500\n",
      "   macro avg       0.62      0.51      0.48      3500\n",
      "weighted avg       0.79      0.86      0.79      3500\n",
      "\n",
      "-------------------------------------------------------\n",
      "              precision    recall  f1-score   support\n",
      "\n",
      "           0       0.86      1.00      0.92      1285\n",
      "           1       1.00      0.03      0.05       215\n",
      "\n",
      "    accuracy                           0.86      1500\n",
      "   macro avg       0.93      0.51      0.49      1500\n",
      "weighted avg       0.88      0.86      0.80      1500\n",
      "\n"
     ]
    }
   ],
   "source": [
    "\n",
    "print(cf)\n",
    "print(classification_report(y_train, y_train_pred))\n",
    "print(\"-------------------------------------------------------\")\n",
    "print(classification_report(y_test, y_test_pred))"
   ]
  },
  {
   "attachments": {},
   "cell_type": "markdown",
   "metadata": {},
   "source": [
    "# Algorithm ocsvm"
   ]
  },
  {
   "cell_type": "code",
   "execution_count": 339,
   "metadata": {},
   "outputs": [],
   "source": [
    "x_train_1.columns = x_train_1.columns.astype(str)\n",
    "x_test_1.columns = x_test_1.columns.astype(str)"
   ]
  },
  {
   "cell_type": "code",
   "execution_count": 330,
   "metadata": {},
   "outputs": [],
   "source": [
    "import matplotlib.pyplot as plt\n",
    "import matplotlib.font_manager\n",
    "from sklearn import svm"
   ]
  },
  {
   "cell_type": "code",
   "execution_count": 340,
   "metadata": {},
   "outputs": [],
   "source": [
    "clf = svm.OneClassSVM()\n",
    "clf.fit(x_train_1)\n",
    "y_pred_train = clf.predict(x_train_1)\n",
    "y_pred_test = clf.predict(x_test_1)\n",
    "# 실행시간 2m 4.7s"
   ]
  },
  {
   "cell_type": "code",
   "execution_count": 343,
   "metadata": {},
   "outputs": [],
   "source": [
    "cf = confusion_matrix(y_train[\"positive\"],y_predict)"
   ]
  },
  {
   "cell_type": "code",
   "execution_count": 349,
   "metadata": {},
   "outputs": [
    {
     "name": "stdout",
     "output_type": "stream",
     "text": [
      "[[   0    0    0]\n",
      " [ 217    0 2782]\n",
      " [ 131    0  370]]\n",
      "              precision    recall  f1-score   support\n",
      "\n",
      "          -1       0.00      0.00      0.00         0\n",
      "           0       0.00      0.00      0.00      2999\n",
      "           1       0.04      0.15      0.07       501\n",
      "\n",
      "    accuracy                           0.02      3500\n",
      "   macro avg       0.01      0.05      0.02      3500\n",
      "weighted avg       0.01      0.02      0.01      3500\n",
      "\n",
      "-------------------------------------------------------\n",
      "              precision    recall  f1-score   support\n",
      "\n",
      "          -1       0.00      0.00      0.00         0\n",
      "           0       0.00      0.00      0.00      1285\n",
      "           1       0.13      0.23      0.16       215\n",
      "\n",
      "    accuracy                           0.03      1500\n",
      "   macro avg       0.04      0.08      0.05      1500\n",
      "weighted avg       0.02      0.03      0.02      1500\n",
      "\n"
     ]
    },
    {
     "name": "stderr",
     "output_type": "stream",
     "text": [
      "/home/shkim/.local/lib/python3.8/site-packages/sklearn/metrics/_classification.py:1344: UndefinedMetricWarning: Precision and F-score are ill-defined and being set to 0.0 in labels with no predicted samples. Use `zero_division` parameter to control this behavior.\n",
      "  _warn_prf(average, modifier, msg_start, len(result))\n",
      "/home/shkim/.local/lib/python3.8/site-packages/sklearn/metrics/_classification.py:1344: UndefinedMetricWarning: Recall and F-score are ill-defined and being set to 0.0 in labels with no true samples. Use `zero_division` parameter to control this behavior.\n",
      "  _warn_prf(average, modifier, msg_start, len(result))\n",
      "/home/shkim/.local/lib/python3.8/site-packages/sklearn/metrics/_classification.py:1344: UndefinedMetricWarning: Precision and F-score are ill-defined and being set to 0.0 in labels with no predicted samples. Use `zero_division` parameter to control this behavior.\n",
      "  _warn_prf(average, modifier, msg_start, len(result))\n",
      "/home/shkim/.local/lib/python3.8/site-packages/sklearn/metrics/_classification.py:1344: UndefinedMetricWarning: Recall and F-score are ill-defined and being set to 0.0 in labels with no true samples. Use `zero_division` parameter to control this behavior.\n",
      "  _warn_prf(average, modifier, msg_start, len(result))\n",
      "/home/shkim/.local/lib/python3.8/site-packages/sklearn/metrics/_classification.py:1344: UndefinedMetricWarning: Precision and F-score are ill-defined and being set to 0.0 in labels with no predicted samples. Use `zero_division` parameter to control this behavior.\n",
      "  _warn_prf(average, modifier, msg_start, len(result))\n",
      "/home/shkim/.local/lib/python3.8/site-packages/sklearn/metrics/_classification.py:1344: UndefinedMetricWarning: Recall and F-score are ill-defined and being set to 0.0 in labels with no true samples. Use `zero_division` parameter to control this behavior.\n",
      "  _warn_prf(average, modifier, msg_start, len(result))\n",
      "/home/shkim/.local/lib/python3.8/site-packages/sklearn/metrics/_classification.py:1344: UndefinedMetricWarning: Precision and F-score are ill-defined and being set to 0.0 in labels with no predicted samples. Use `zero_division` parameter to control this behavior.\n",
      "  _warn_prf(average, modifier, msg_start, len(result))\n",
      "/home/shkim/.local/lib/python3.8/site-packages/sklearn/metrics/_classification.py:1344: UndefinedMetricWarning: Recall and F-score are ill-defined and being set to 0.0 in labels with no true samples. Use `zero_division` parameter to control this behavior.\n",
      "  _warn_prf(average, modifier, msg_start, len(result))\n",
      "/home/shkim/.local/lib/python3.8/site-packages/sklearn/metrics/_classification.py:1344: UndefinedMetricWarning: Precision and F-score are ill-defined and being set to 0.0 in labels with no predicted samples. Use `zero_division` parameter to control this behavior.\n",
      "  _warn_prf(average, modifier, msg_start, len(result))\n",
      "/home/shkim/.local/lib/python3.8/site-packages/sklearn/metrics/_classification.py:1344: UndefinedMetricWarning: Recall and F-score are ill-defined and being set to 0.0 in labels with no true samples. Use `zero_division` parameter to control this behavior.\n",
      "  _warn_prf(average, modifier, msg_start, len(result))\n",
      "/home/shkim/.local/lib/python3.8/site-packages/sklearn/metrics/_classification.py:1344: UndefinedMetricWarning: Precision and F-score are ill-defined and being set to 0.0 in labels with no predicted samples. Use `zero_division` parameter to control this behavior.\n",
      "  _warn_prf(average, modifier, msg_start, len(result))\n",
      "/home/shkim/.local/lib/python3.8/site-packages/sklearn/metrics/_classification.py:1344: UndefinedMetricWarning: Recall and F-score are ill-defined and being set to 0.0 in labels with no true samples. Use `zero_division` parameter to control this behavior.\n",
      "  _warn_prf(average, modifier, msg_start, len(result))\n"
     ]
    }
   ],
   "source": [
    "\n",
    "print(cf)\n",
    "print(classification_report(y_train, y_pred_train))\n",
    "print(\"-------------------------------------------------------\")\n",
    "print(classification_report(y_test, y_pred_test))"
   ]
  },
  {
   "cell_type": "code",
   "execution_count": null,
   "metadata": {},
   "outputs": [],
   "source": []
  },
  {
   "cell_type": "code",
   "execution_count": null,
   "metadata": {},
   "outputs": [],
   "source": []
  }
 ],
 "metadata": {
  "kernelspec": {
   "display_name": "Python 3",
   "language": "python",
   "name": "python3"
  },
  "language_info": {
   "codemirror_mode": {
    "name": "ipython",
    "version": 3
   },
   "file_extension": ".py",
   "mimetype": "text/x-python",
   "name": "python",
   "nbconvert_exporter": "python",
   "pygments_lexer": "ipython3",
   "version": "3.8.10"
  },
  "orig_nbformat": 4
 },
 "nbformat": 4,
 "nbformat_minor": 2
}
