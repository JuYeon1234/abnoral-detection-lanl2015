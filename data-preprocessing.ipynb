{
 "cells": [
  {
   "attachments": {},
   "cell_type": "markdown",
   "metadata": {},
   "source": [
    "# 1 load dataset"
   ]
  },
  {
   "cell_type": "code",
   "execution_count": 90,
   "metadata": {},
   "outputs": [],
   "source": [
    "import sys\n",
    "sys.path = []"
   ]
  },
  {
   "cell_type": "code",
   "execution_count": 98,
   "metadata": {},
   "outputs": [],
   "source": [
    "import pandas as pd\n",
    "import numpy as np\n",
    "\n",
    "#인증기록 불러오기\n",
    "auth_cols = [\"time\", \"suser_do\", \"duser_do\", \"scom\", \"dcom\", \"a_t\", \"logon_type\", \"a_ot\", \"s/f\"]\n",
    "auth_log = pd.read_csv(\"auth.txt\", names = auth_cols)\n",
    "\n"
   ]
  },
  {
   "cell_type": "code",
   "execution_count": 99,
   "metadata": {},
   "outputs": [],
   "source": [
    "attack_log = pd.read_csv(\"/home/shkim/lanl2015/redteam.txt\", names = [\"time\", \"s-d\", \"c\", \"destination_com\"]) # 공격 기록 저장\n"
   ]
  },
  {
   "attachments": {},
   "cell_type": "markdown",
   "metadata": {},
   "source": [
    "# preprocessing"
   ]
  },
  {
   "cell_type": "code",
   "execution_count": 100,
   "metadata": {},
   "outputs": [],
   "source": [
    "# @ split\n",
    "df_auth_cols = [\"time\", \"s_user\", \"s_domain\",  \"d_user\",\"d_domain\", \"scom\", \"dcom\", \"a_t\", \"logon_type\", \"a_ot\", \"s/f\"]\n",
    "\n",
    "# df_s_user = auth_log[\"s_user\"].split(\"@\")[0]\n",
    "s_u[\"s_user\"] = auth_log.suser_do.str.split(\"@\").str[0]\n",
    "s_d[\"s_domain\"] = auth_log.suser_do.str.split(\"@\").str[1]\n",
    "d_u[\"d_user\"] = auth_log.duser_do.str.split(\"@\").str[0]\n",
    "d_d[\"d_domain\"] = auth_log.duser_do.str.split(\"@\").str[1]"
   ]
  },
  {
   "cell_type": "code",
   "execution_count": 101,
   "metadata": {},
   "outputs": [],
   "source": [
    "# make auth dataframe\n",
    "df_auth = pd.DataFrame(auth_log, columns = df_auth_cols)"
   ]
  },
  {
   "cell_type": "code",
   "execution_count": 117,
   "metadata": {},
   "outputs": [],
   "source": [
    "df_auth[\"s_user\"] = s_u[\"s_user\"]\n",
    "df_auth[\"s_domain\"] = s_d[\"s_domain\"]\n",
    "df_auth[\"d_user\"] = d_u[\"d_user\"]\n",
    "df_auth[\"d_domain\"] = d_d[\"d_domain\"]"
   ]
  },
  {
   "cell_type": "code",
   "execution_count": 110,
   "metadata": {},
   "outputs": [
    {
     "data": {
      "text/plain": [
       "0                                                     C625$\n",
       "1                                                     C653$\n",
       "2                                                     C660$\n",
       "s_user    0     C625$\n",
       "1     C653$\n",
       "2    SYSTEM\n",
       "3     C660...\n",
       "Name: suser_do, dtype: object"
      ]
     },
     "execution_count": 110,
     "metadata": {},
     "output_type": "execute_result"
    }
   ],
   "source": [
    "# '$' 삭제\n",
    "df_auth[\"s_user\"][df_auth[\"s_user\"].str[-1] == \"$\"] = df_auth[\"s_user\"][df_auth[\"s_user\"].str[-1] == \"$\"].str[:-1]"
   ]
  }
 ],
 "metadata": {
  "kernelspec": {
   "display_name": "Python 3",
   "language": "python",
   "name": "python3"
  },
  "language_info": {
   "codemirror_mode": {
    "name": "ipython",
    "version": 3
   },
   "file_extension": ".py",
   "mimetype": "text/x-python",
   "name": "python",
   "nbconvert_exporter": "python",
   "pygments_lexer": "ipython3",
   "version": "3.8.10"
  },
  "orig_nbformat": 4
 },
 "nbformat": 4,
 "nbformat_minor": 2
}
